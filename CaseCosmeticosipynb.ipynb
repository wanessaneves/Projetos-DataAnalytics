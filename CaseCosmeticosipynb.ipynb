{
  "nbformat": 4,
  "nbformat_minor": 0,
  "metadata": {
    "colab": {
      "provenance": [],
      "authorship_tag": "ABX9TyO1nzbT9vTWWzO8RKQ702xq",
      "include_colab_link": true
    },
    "kernelspec": {
      "name": "python3",
      "display_name": "Python 3"
    },
    "language_info": {
      "name": "python"
    }
  },
  "cells": [
    {
      "cell_type": "markdown",
      "metadata": {
        "id": "view-in-github",
        "colab_type": "text"
      },
      "source": [
        "<a href=\"https://colab.research.google.com/github/wanessaneves/Projetos-DataAnalytics/blob/main/CaseCosmeticosipynb.ipynb\" target=\"_parent\"><img src=\"https://colab.research.google.com/assets/colab-badge.svg\" alt=\"Open In Colab\"/></a>"
      ]
    },
    {
      "cell_type": "markdown",
      "source": [
        "#Desafio 1 : Cosméticos"
      ],
      "metadata": {
        "id": "Da6WMdsKdyJY"
      }
    },
    {
      "cell_type": "markdown",
      "source": [
        "***Suponha que você trabalha em uma empresa do ramo de cosméticos ou beleza. O\n",
        "Time de produtos dessa empresa está interessado criar novos batons com maior\n",
        "durabilidade. Para isso estão testando 3 diferentes fórmulas para irem a mercado.***\n",
        "\n",
        "Com isso, a empresa fez uma pesquisa com varias voluntárias e populou a base de\n",
        "dados (desafio_01_cosmeticos.csv) contendo as seguintes informacoes:\n",
        "\n",
        "● id_produto: código identificador do produto, com a fórmula utilizada. Para\n",
        "diferenciarmos se se trata do batom com a fórmula 1, 2 ou 3\n",
        "\n",
        "● id_voluntária: código identificador da voluntária que utilizou o produto.\n",
        "\n",
        "● durabilidade: quanto tempo o produto durou em horas.\n",
        "\n",
        "● idade: idade da voluntária\n",
        "\n",
        "● exposicao_sol: variável que indica 1 se a voluntária se expos ao sol 0 caso\n",
        "contrário.\n",
        "\n",
        "De posse dessas informacoes, o time de produtos solicitou aos analistas de dados da\n",
        "empresa as seguintes perguntas a serem respondidas:\n",
        "\n",
        "1 - Existe diferenca estatisticamente significativa na durabilidade dos batons com\n",
        "formulas diferentes?\n",
        "\n",
        "2 - Essa diferenca persiste ou nao quando a voluntária se expoe ao sol? E com\n",
        "relacao a idade?\n",
        "\n",
        "3- Qual fórmula de batom voce indicaria para consumidores que buscam maior\n",
        "durabilidade e exposicao ao sol?"
      ],
      "metadata": {
        "id": "EZKNREQKd6ow"
      }
    },
    {
      "cell_type": "code",
      "execution_count": null,
      "metadata": {
        "id": "OFrMvTYPdeUa"
      },
      "outputs": [],
      "source": [
        "#ImportandoBibliotecas\n",
        "\n",
        "import pandas as pd\n",
        "from scipy import stats\n",
        "import seaborn as sns\n",
        "import matplotlib.pyplot as plt\n",
        "import statsmodels.stats.weightstats as test_t\n",
        "import numpy as np\n",
        "import statsmodels.api as sm\n",
        "\n",
        "\n"
      ]
    },
    {
      "cell_type": "code",
      "source": [
        "dados = pd.read_csv('/content/desafio_01_cosmeticos_challenge_testehipoteses230206120450-230911-094933.csv')"
      ],
      "metadata": {
        "id": "IVHXcTITesLQ"
      },
      "execution_count": null,
      "outputs": []
    },
    {
      "cell_type": "code",
      "source": [
        "dados.head()"
      ],
      "metadata": {
        "colab": {
          "base_uri": "https://localhost:8080/",
          "height": 206
        },
        "id": "xlbqhSShew7o",
        "outputId": "f52fcdf6-839f-4cf3-eb60-70e56107d0d0"
      },
      "execution_count": null,
      "outputs": [
        {
          "output_type": "execute_result",
          "data": {
            "text/plain": [
              "   id_produto  id_voluntária  durabilidade  idade  exposicao_sol\n",
              "0           1              1            12     40              1\n",
              "1           2              2             5     36              0\n",
              "2           1              3            19     47              0\n",
              "3           1              4            14     36              1\n",
              "4           1              5            17     46              1"
            ],
            "text/html": [
              "\n",
              "  <div id=\"df-cb8136a2-5aa1-4e7b-8131-6868d210479d\" class=\"colab-df-container\">\n",
              "    <div>\n",
              "<style scoped>\n",
              "    .dataframe tbody tr th:only-of-type {\n",
              "        vertical-align: middle;\n",
              "    }\n",
              "\n",
              "    .dataframe tbody tr th {\n",
              "        vertical-align: top;\n",
              "    }\n",
              "\n",
              "    .dataframe thead th {\n",
              "        text-align: right;\n",
              "    }\n",
              "</style>\n",
              "<table border=\"1\" class=\"dataframe\">\n",
              "  <thead>\n",
              "    <tr style=\"text-align: right;\">\n",
              "      <th></th>\n",
              "      <th>id_produto</th>\n",
              "      <th>id_voluntária</th>\n",
              "      <th>durabilidade</th>\n",
              "      <th>idade</th>\n",
              "      <th>exposicao_sol</th>\n",
              "    </tr>\n",
              "  </thead>\n",
              "  <tbody>\n",
              "    <tr>\n",
              "      <th>0</th>\n",
              "      <td>1</td>\n",
              "      <td>1</td>\n",
              "      <td>12</td>\n",
              "      <td>40</td>\n",
              "      <td>1</td>\n",
              "    </tr>\n",
              "    <tr>\n",
              "      <th>1</th>\n",
              "      <td>2</td>\n",
              "      <td>2</td>\n",
              "      <td>5</td>\n",
              "      <td>36</td>\n",
              "      <td>0</td>\n",
              "    </tr>\n",
              "    <tr>\n",
              "      <th>2</th>\n",
              "      <td>1</td>\n",
              "      <td>3</td>\n",
              "      <td>19</td>\n",
              "      <td>47</td>\n",
              "      <td>0</td>\n",
              "    </tr>\n",
              "    <tr>\n",
              "      <th>3</th>\n",
              "      <td>1</td>\n",
              "      <td>4</td>\n",
              "      <td>14</td>\n",
              "      <td>36</td>\n",
              "      <td>1</td>\n",
              "    </tr>\n",
              "    <tr>\n",
              "      <th>4</th>\n",
              "      <td>1</td>\n",
              "      <td>5</td>\n",
              "      <td>17</td>\n",
              "      <td>46</td>\n",
              "      <td>1</td>\n",
              "    </tr>\n",
              "  </tbody>\n",
              "</table>\n",
              "</div>\n",
              "    <div class=\"colab-df-buttons\">\n",
              "\n",
              "  <div class=\"colab-df-container\">\n",
              "    <button class=\"colab-df-convert\" onclick=\"convertToInteractive('df-cb8136a2-5aa1-4e7b-8131-6868d210479d')\"\n",
              "            title=\"Convert this dataframe to an interactive table.\"\n",
              "            style=\"display:none;\">\n",
              "\n",
              "  <svg xmlns=\"http://www.w3.org/2000/svg\" height=\"24px\" viewBox=\"0 -960 960 960\">\n",
              "    <path d=\"M120-120v-720h720v720H120Zm60-500h600v-160H180v160Zm220 220h160v-160H400v160Zm0 220h160v-160H400v160ZM180-400h160v-160H180v160Zm440 0h160v-160H620v160ZM180-180h160v-160H180v160Zm440 0h160v-160H620v160Z\"/>\n",
              "  </svg>\n",
              "    </button>\n",
              "\n",
              "  <style>\n",
              "    .colab-df-container {\n",
              "      display:flex;\n",
              "      gap: 12px;\n",
              "    }\n",
              "\n",
              "    .colab-df-convert {\n",
              "      background-color: #E8F0FE;\n",
              "      border: none;\n",
              "      border-radius: 50%;\n",
              "      cursor: pointer;\n",
              "      display: none;\n",
              "      fill: #1967D2;\n",
              "      height: 32px;\n",
              "      padding: 0 0 0 0;\n",
              "      width: 32px;\n",
              "    }\n",
              "\n",
              "    .colab-df-convert:hover {\n",
              "      background-color: #E2EBFA;\n",
              "      box-shadow: 0px 1px 2px rgba(60, 64, 67, 0.3), 0px 1px 3px 1px rgba(60, 64, 67, 0.15);\n",
              "      fill: #174EA6;\n",
              "    }\n",
              "\n",
              "    .colab-df-buttons div {\n",
              "      margin-bottom: 4px;\n",
              "    }\n",
              "\n",
              "    [theme=dark] .colab-df-convert {\n",
              "      background-color: #3B4455;\n",
              "      fill: #D2E3FC;\n",
              "    }\n",
              "\n",
              "    [theme=dark] .colab-df-convert:hover {\n",
              "      background-color: #434B5C;\n",
              "      box-shadow: 0px 1px 3px 1px rgba(0, 0, 0, 0.15);\n",
              "      filter: drop-shadow(0px 1px 2px rgba(0, 0, 0, 0.3));\n",
              "      fill: #FFFFFF;\n",
              "    }\n",
              "  </style>\n",
              "\n",
              "    <script>\n",
              "      const buttonEl =\n",
              "        document.querySelector('#df-cb8136a2-5aa1-4e7b-8131-6868d210479d button.colab-df-convert');\n",
              "      buttonEl.style.display =\n",
              "        google.colab.kernel.accessAllowed ? 'block' : 'none';\n",
              "\n",
              "      async function convertToInteractive(key) {\n",
              "        const element = document.querySelector('#df-cb8136a2-5aa1-4e7b-8131-6868d210479d');\n",
              "        const dataTable =\n",
              "          await google.colab.kernel.invokeFunction('convertToInteractive',\n",
              "                                                    [key], {});\n",
              "        if (!dataTable) return;\n",
              "\n",
              "        const docLinkHtml = 'Like what you see? Visit the ' +\n",
              "          '<a target=\"_blank\" href=https://colab.research.google.com/notebooks/data_table.ipynb>data table notebook</a>'\n",
              "          + ' to learn more about interactive tables.';\n",
              "        element.innerHTML = '';\n",
              "        dataTable['output_type'] = 'display_data';\n",
              "        await google.colab.output.renderOutput(dataTable, element);\n",
              "        const docLink = document.createElement('div');\n",
              "        docLink.innerHTML = docLinkHtml;\n",
              "        element.appendChild(docLink);\n",
              "      }\n",
              "    </script>\n",
              "  </div>\n",
              "\n",
              "\n",
              "<div id=\"df-765c9a91-17ee-44a8-a7aa-7a9b9609fd42\">\n",
              "  <button class=\"colab-df-quickchart\" onclick=\"quickchart('df-765c9a91-17ee-44a8-a7aa-7a9b9609fd42')\"\n",
              "            title=\"Suggest charts.\"\n",
              "            style=\"display:none;\">\n",
              "\n",
              "<svg xmlns=\"http://www.w3.org/2000/svg\" height=\"24px\"viewBox=\"0 0 24 24\"\n",
              "     width=\"24px\">\n",
              "    <g>\n",
              "        <path d=\"M19 3H5c-1.1 0-2 .9-2 2v14c0 1.1.9 2 2 2h14c1.1 0 2-.9 2-2V5c0-1.1-.9-2-2-2zM9 17H7v-7h2v7zm4 0h-2V7h2v10zm4 0h-2v-4h2v4z\"/>\n",
              "    </g>\n",
              "</svg>\n",
              "  </button>\n",
              "\n",
              "<style>\n",
              "  .colab-df-quickchart {\n",
              "      --bg-color: #E8F0FE;\n",
              "      --fill-color: #1967D2;\n",
              "      --hover-bg-color: #E2EBFA;\n",
              "      --hover-fill-color: #174EA6;\n",
              "      --disabled-fill-color: #AAA;\n",
              "      --disabled-bg-color: #DDD;\n",
              "  }\n",
              "\n",
              "  [theme=dark] .colab-df-quickchart {\n",
              "      --bg-color: #3B4455;\n",
              "      --fill-color: #D2E3FC;\n",
              "      --hover-bg-color: #434B5C;\n",
              "      --hover-fill-color: #FFFFFF;\n",
              "      --disabled-bg-color: #3B4455;\n",
              "      --disabled-fill-color: #666;\n",
              "  }\n",
              "\n",
              "  .colab-df-quickchart {\n",
              "    background-color: var(--bg-color);\n",
              "    border: none;\n",
              "    border-radius: 50%;\n",
              "    cursor: pointer;\n",
              "    display: none;\n",
              "    fill: var(--fill-color);\n",
              "    height: 32px;\n",
              "    padding: 0;\n",
              "    width: 32px;\n",
              "  }\n",
              "\n",
              "  .colab-df-quickchart:hover {\n",
              "    background-color: var(--hover-bg-color);\n",
              "    box-shadow: 0 1px 2px rgba(60, 64, 67, 0.3), 0 1px 3px 1px rgba(60, 64, 67, 0.15);\n",
              "    fill: var(--button-hover-fill-color);\n",
              "  }\n",
              "\n",
              "  .colab-df-quickchart-complete:disabled,\n",
              "  .colab-df-quickchart-complete:disabled:hover {\n",
              "    background-color: var(--disabled-bg-color);\n",
              "    fill: var(--disabled-fill-color);\n",
              "    box-shadow: none;\n",
              "  }\n",
              "\n",
              "  .colab-df-spinner {\n",
              "    border: 2px solid var(--fill-color);\n",
              "    border-color: transparent;\n",
              "    border-bottom-color: var(--fill-color);\n",
              "    animation:\n",
              "      spin 1s steps(1) infinite;\n",
              "  }\n",
              "\n",
              "  @keyframes spin {\n",
              "    0% {\n",
              "      border-color: transparent;\n",
              "      border-bottom-color: var(--fill-color);\n",
              "      border-left-color: var(--fill-color);\n",
              "    }\n",
              "    20% {\n",
              "      border-color: transparent;\n",
              "      border-left-color: var(--fill-color);\n",
              "      border-top-color: var(--fill-color);\n",
              "    }\n",
              "    30% {\n",
              "      border-color: transparent;\n",
              "      border-left-color: var(--fill-color);\n",
              "      border-top-color: var(--fill-color);\n",
              "      border-right-color: var(--fill-color);\n",
              "    }\n",
              "    40% {\n",
              "      border-color: transparent;\n",
              "      border-right-color: var(--fill-color);\n",
              "      border-top-color: var(--fill-color);\n",
              "    }\n",
              "    60% {\n",
              "      border-color: transparent;\n",
              "      border-right-color: var(--fill-color);\n",
              "    }\n",
              "    80% {\n",
              "      border-color: transparent;\n",
              "      border-right-color: var(--fill-color);\n",
              "      border-bottom-color: var(--fill-color);\n",
              "    }\n",
              "    90% {\n",
              "      border-color: transparent;\n",
              "      border-bottom-color: var(--fill-color);\n",
              "    }\n",
              "  }\n",
              "</style>\n",
              "\n",
              "  <script>\n",
              "    async function quickchart(key) {\n",
              "      const quickchartButtonEl =\n",
              "        document.querySelector('#' + key + ' button');\n",
              "      quickchartButtonEl.disabled = true;  // To prevent multiple clicks.\n",
              "      quickchartButtonEl.classList.add('colab-df-spinner');\n",
              "      try {\n",
              "        const charts = await google.colab.kernel.invokeFunction(\n",
              "            'suggestCharts', [key], {});\n",
              "      } catch (error) {\n",
              "        console.error('Error during call to suggestCharts:', error);\n",
              "      }\n",
              "      quickchartButtonEl.classList.remove('colab-df-spinner');\n",
              "      quickchartButtonEl.classList.add('colab-df-quickchart-complete');\n",
              "    }\n",
              "    (() => {\n",
              "      let quickchartButtonEl =\n",
              "        document.querySelector('#df-765c9a91-17ee-44a8-a7aa-7a9b9609fd42 button');\n",
              "      quickchartButtonEl.style.display =\n",
              "        google.colab.kernel.accessAllowed ? 'block' : 'none';\n",
              "    })();\n",
              "  </script>\n",
              "</div>\n",
              "    </div>\n",
              "  </div>\n"
            ]
          },
          "metadata": {},
          "execution_count": 3
        }
      ]
    },
    {
      "cell_type": "code",
      "source": [
        "dados.shape[0]"
      ],
      "metadata": {
        "colab": {
          "base_uri": "https://localhost:8080/"
        },
        "id": "L8HMwrOMeypV",
        "outputId": "a1ac7845-4c3b-40c5-f4b6-ad27685d607d"
      },
      "execution_count": null,
      "outputs": [
        {
          "output_type": "execute_result",
          "data": {
            "text/plain": [
              "300"
            ]
          },
          "metadata": {},
          "execution_count": 4
        }
      ]
    },
    {
      "cell_type": "code",
      "source": [
        "dados.describe()"
      ],
      "metadata": {
        "colab": {
          "base_uri": "https://localhost:8080/",
          "height": 300
        },
        "id": "Ok2kLICMe13t",
        "outputId": "ad4059a8-6089-40fd-8b17-1259c95cc932"
      },
      "execution_count": null,
      "outputs": [
        {
          "output_type": "execute_result",
          "data": {
            "text/plain": [
              "       id_produto  id_voluntária  durabilidade       idade  exposicao_sol\n",
              "count  300.000000     300.000000    300.000000  300.000000     300.000000\n",
              "mean     2.000000     150.500000     17.133333   36.886667       0.440000\n",
              "std      0.817861      86.746758     10.942945   12.625841       0.497216\n",
              "min      1.000000       1.000000      5.000000   18.000000       0.000000\n",
              "25%      1.000000      75.750000      9.000000   26.000000       0.000000\n",
              "50%      2.000000     150.500000     14.000000   36.000000       0.000000\n",
              "75%      3.000000     225.250000     20.000000   48.000000       1.000000\n",
              "max      3.000000     300.000000     48.000000   60.000000       1.000000"
            ],
            "text/html": [
              "\n",
              "  <div id=\"df-5f3725f0-0e16-4909-bc00-520b47c71258\" class=\"colab-df-container\">\n",
              "    <div>\n",
              "<style scoped>\n",
              "    .dataframe tbody tr th:only-of-type {\n",
              "        vertical-align: middle;\n",
              "    }\n",
              "\n",
              "    .dataframe tbody tr th {\n",
              "        vertical-align: top;\n",
              "    }\n",
              "\n",
              "    .dataframe thead th {\n",
              "        text-align: right;\n",
              "    }\n",
              "</style>\n",
              "<table border=\"1\" class=\"dataframe\">\n",
              "  <thead>\n",
              "    <tr style=\"text-align: right;\">\n",
              "      <th></th>\n",
              "      <th>id_produto</th>\n",
              "      <th>id_voluntária</th>\n",
              "      <th>durabilidade</th>\n",
              "      <th>idade</th>\n",
              "      <th>exposicao_sol</th>\n",
              "    </tr>\n",
              "  </thead>\n",
              "  <tbody>\n",
              "    <tr>\n",
              "      <th>count</th>\n",
              "      <td>300.000000</td>\n",
              "      <td>300.000000</td>\n",
              "      <td>300.000000</td>\n",
              "      <td>300.000000</td>\n",
              "      <td>300.000000</td>\n",
              "    </tr>\n",
              "    <tr>\n",
              "      <th>mean</th>\n",
              "      <td>2.000000</td>\n",
              "      <td>150.500000</td>\n",
              "      <td>17.133333</td>\n",
              "      <td>36.886667</td>\n",
              "      <td>0.440000</td>\n",
              "    </tr>\n",
              "    <tr>\n",
              "      <th>std</th>\n",
              "      <td>0.817861</td>\n",
              "      <td>86.746758</td>\n",
              "      <td>10.942945</td>\n",
              "      <td>12.625841</td>\n",
              "      <td>0.497216</td>\n",
              "    </tr>\n",
              "    <tr>\n",
              "      <th>min</th>\n",
              "      <td>1.000000</td>\n",
              "      <td>1.000000</td>\n",
              "      <td>5.000000</td>\n",
              "      <td>18.000000</td>\n",
              "      <td>0.000000</td>\n",
              "    </tr>\n",
              "    <tr>\n",
              "      <th>25%</th>\n",
              "      <td>1.000000</td>\n",
              "      <td>75.750000</td>\n",
              "      <td>9.000000</td>\n",
              "      <td>26.000000</td>\n",
              "      <td>0.000000</td>\n",
              "    </tr>\n",
              "    <tr>\n",
              "      <th>50%</th>\n",
              "      <td>2.000000</td>\n",
              "      <td>150.500000</td>\n",
              "      <td>14.000000</td>\n",
              "      <td>36.000000</td>\n",
              "      <td>0.000000</td>\n",
              "    </tr>\n",
              "    <tr>\n",
              "      <th>75%</th>\n",
              "      <td>3.000000</td>\n",
              "      <td>225.250000</td>\n",
              "      <td>20.000000</td>\n",
              "      <td>48.000000</td>\n",
              "      <td>1.000000</td>\n",
              "    </tr>\n",
              "    <tr>\n",
              "      <th>max</th>\n",
              "      <td>3.000000</td>\n",
              "      <td>300.000000</td>\n",
              "      <td>48.000000</td>\n",
              "      <td>60.000000</td>\n",
              "      <td>1.000000</td>\n",
              "    </tr>\n",
              "  </tbody>\n",
              "</table>\n",
              "</div>\n",
              "    <div class=\"colab-df-buttons\">\n",
              "\n",
              "  <div class=\"colab-df-container\">\n",
              "    <button class=\"colab-df-convert\" onclick=\"convertToInteractive('df-5f3725f0-0e16-4909-bc00-520b47c71258')\"\n",
              "            title=\"Convert this dataframe to an interactive table.\"\n",
              "            style=\"display:none;\">\n",
              "\n",
              "  <svg xmlns=\"http://www.w3.org/2000/svg\" height=\"24px\" viewBox=\"0 -960 960 960\">\n",
              "    <path d=\"M120-120v-720h720v720H120Zm60-500h600v-160H180v160Zm220 220h160v-160H400v160Zm0 220h160v-160H400v160ZM180-400h160v-160H180v160Zm440 0h160v-160H620v160ZM180-180h160v-160H180v160Zm440 0h160v-160H620v160Z\"/>\n",
              "  </svg>\n",
              "    </button>\n",
              "\n",
              "  <style>\n",
              "    .colab-df-container {\n",
              "      display:flex;\n",
              "      gap: 12px;\n",
              "    }\n",
              "\n",
              "    .colab-df-convert {\n",
              "      background-color: #E8F0FE;\n",
              "      border: none;\n",
              "      border-radius: 50%;\n",
              "      cursor: pointer;\n",
              "      display: none;\n",
              "      fill: #1967D2;\n",
              "      height: 32px;\n",
              "      padding: 0 0 0 0;\n",
              "      width: 32px;\n",
              "    }\n",
              "\n",
              "    .colab-df-convert:hover {\n",
              "      background-color: #E2EBFA;\n",
              "      box-shadow: 0px 1px 2px rgba(60, 64, 67, 0.3), 0px 1px 3px 1px rgba(60, 64, 67, 0.15);\n",
              "      fill: #174EA6;\n",
              "    }\n",
              "\n",
              "    .colab-df-buttons div {\n",
              "      margin-bottom: 4px;\n",
              "    }\n",
              "\n",
              "    [theme=dark] .colab-df-convert {\n",
              "      background-color: #3B4455;\n",
              "      fill: #D2E3FC;\n",
              "    }\n",
              "\n",
              "    [theme=dark] .colab-df-convert:hover {\n",
              "      background-color: #434B5C;\n",
              "      box-shadow: 0px 1px 3px 1px rgba(0, 0, 0, 0.15);\n",
              "      filter: drop-shadow(0px 1px 2px rgba(0, 0, 0, 0.3));\n",
              "      fill: #FFFFFF;\n",
              "    }\n",
              "  </style>\n",
              "\n",
              "    <script>\n",
              "      const buttonEl =\n",
              "        document.querySelector('#df-5f3725f0-0e16-4909-bc00-520b47c71258 button.colab-df-convert');\n",
              "      buttonEl.style.display =\n",
              "        google.colab.kernel.accessAllowed ? 'block' : 'none';\n",
              "\n",
              "      async function convertToInteractive(key) {\n",
              "        const element = document.querySelector('#df-5f3725f0-0e16-4909-bc00-520b47c71258');\n",
              "        const dataTable =\n",
              "          await google.colab.kernel.invokeFunction('convertToInteractive',\n",
              "                                                    [key], {});\n",
              "        if (!dataTable) return;\n",
              "\n",
              "        const docLinkHtml = 'Like what you see? Visit the ' +\n",
              "          '<a target=\"_blank\" href=https://colab.research.google.com/notebooks/data_table.ipynb>data table notebook</a>'\n",
              "          + ' to learn more about interactive tables.';\n",
              "        element.innerHTML = '';\n",
              "        dataTable['output_type'] = 'display_data';\n",
              "        await google.colab.output.renderOutput(dataTable, element);\n",
              "        const docLink = document.createElement('div');\n",
              "        docLink.innerHTML = docLinkHtml;\n",
              "        element.appendChild(docLink);\n",
              "      }\n",
              "    </script>\n",
              "  </div>\n",
              "\n",
              "\n",
              "<div id=\"df-7547e7bb-3b54-45a1-b50b-3c8dc2749d53\">\n",
              "  <button class=\"colab-df-quickchart\" onclick=\"quickchart('df-7547e7bb-3b54-45a1-b50b-3c8dc2749d53')\"\n",
              "            title=\"Suggest charts.\"\n",
              "            style=\"display:none;\">\n",
              "\n",
              "<svg xmlns=\"http://www.w3.org/2000/svg\" height=\"24px\"viewBox=\"0 0 24 24\"\n",
              "     width=\"24px\">\n",
              "    <g>\n",
              "        <path d=\"M19 3H5c-1.1 0-2 .9-2 2v14c0 1.1.9 2 2 2h14c1.1 0 2-.9 2-2V5c0-1.1-.9-2-2-2zM9 17H7v-7h2v7zm4 0h-2V7h2v10zm4 0h-2v-4h2v4z\"/>\n",
              "    </g>\n",
              "</svg>\n",
              "  </button>\n",
              "\n",
              "<style>\n",
              "  .colab-df-quickchart {\n",
              "      --bg-color: #E8F0FE;\n",
              "      --fill-color: #1967D2;\n",
              "      --hover-bg-color: #E2EBFA;\n",
              "      --hover-fill-color: #174EA6;\n",
              "      --disabled-fill-color: #AAA;\n",
              "      --disabled-bg-color: #DDD;\n",
              "  }\n",
              "\n",
              "  [theme=dark] .colab-df-quickchart {\n",
              "      --bg-color: #3B4455;\n",
              "      --fill-color: #D2E3FC;\n",
              "      --hover-bg-color: #434B5C;\n",
              "      --hover-fill-color: #FFFFFF;\n",
              "      --disabled-bg-color: #3B4455;\n",
              "      --disabled-fill-color: #666;\n",
              "  }\n",
              "\n",
              "  .colab-df-quickchart {\n",
              "    background-color: var(--bg-color);\n",
              "    border: none;\n",
              "    border-radius: 50%;\n",
              "    cursor: pointer;\n",
              "    display: none;\n",
              "    fill: var(--fill-color);\n",
              "    height: 32px;\n",
              "    padding: 0;\n",
              "    width: 32px;\n",
              "  }\n",
              "\n",
              "  .colab-df-quickchart:hover {\n",
              "    background-color: var(--hover-bg-color);\n",
              "    box-shadow: 0 1px 2px rgba(60, 64, 67, 0.3), 0 1px 3px 1px rgba(60, 64, 67, 0.15);\n",
              "    fill: var(--button-hover-fill-color);\n",
              "  }\n",
              "\n",
              "  .colab-df-quickchart-complete:disabled,\n",
              "  .colab-df-quickchart-complete:disabled:hover {\n",
              "    background-color: var(--disabled-bg-color);\n",
              "    fill: var(--disabled-fill-color);\n",
              "    box-shadow: none;\n",
              "  }\n",
              "\n",
              "  .colab-df-spinner {\n",
              "    border: 2px solid var(--fill-color);\n",
              "    border-color: transparent;\n",
              "    border-bottom-color: var(--fill-color);\n",
              "    animation:\n",
              "      spin 1s steps(1) infinite;\n",
              "  }\n",
              "\n",
              "  @keyframes spin {\n",
              "    0% {\n",
              "      border-color: transparent;\n",
              "      border-bottom-color: var(--fill-color);\n",
              "      border-left-color: var(--fill-color);\n",
              "    }\n",
              "    20% {\n",
              "      border-color: transparent;\n",
              "      border-left-color: var(--fill-color);\n",
              "      border-top-color: var(--fill-color);\n",
              "    }\n",
              "    30% {\n",
              "      border-color: transparent;\n",
              "      border-left-color: var(--fill-color);\n",
              "      border-top-color: var(--fill-color);\n",
              "      border-right-color: var(--fill-color);\n",
              "    }\n",
              "    40% {\n",
              "      border-color: transparent;\n",
              "      border-right-color: var(--fill-color);\n",
              "      border-top-color: var(--fill-color);\n",
              "    }\n",
              "    60% {\n",
              "      border-color: transparent;\n",
              "      border-right-color: var(--fill-color);\n",
              "    }\n",
              "    80% {\n",
              "      border-color: transparent;\n",
              "      border-right-color: var(--fill-color);\n",
              "      border-bottom-color: var(--fill-color);\n",
              "    }\n",
              "    90% {\n",
              "      border-color: transparent;\n",
              "      border-bottom-color: var(--fill-color);\n",
              "    }\n",
              "  }\n",
              "</style>\n",
              "\n",
              "  <script>\n",
              "    async function quickchart(key) {\n",
              "      const quickchartButtonEl =\n",
              "        document.querySelector('#' + key + ' button');\n",
              "      quickchartButtonEl.disabled = true;  // To prevent multiple clicks.\n",
              "      quickchartButtonEl.classList.add('colab-df-spinner');\n",
              "      try {\n",
              "        const charts = await google.colab.kernel.invokeFunction(\n",
              "            'suggestCharts', [key], {});\n",
              "      } catch (error) {\n",
              "        console.error('Error during call to suggestCharts:', error);\n",
              "      }\n",
              "      quickchartButtonEl.classList.remove('colab-df-spinner');\n",
              "      quickchartButtonEl.classList.add('colab-df-quickchart-complete');\n",
              "    }\n",
              "    (() => {\n",
              "      let quickchartButtonEl =\n",
              "        document.querySelector('#df-7547e7bb-3b54-45a1-b50b-3c8dc2749d53 button');\n",
              "      quickchartButtonEl.style.display =\n",
              "        google.colab.kernel.accessAllowed ? 'block' : 'none';\n",
              "    })();\n",
              "  </script>\n",
              "</div>\n",
              "    </div>\n",
              "  </div>\n"
            ]
          },
          "metadata": {},
          "execution_count": 5
        }
      ]
    },
    {
      "cell_type": "code",
      "source": [
        "dados['id_produto'].unique()"
      ],
      "metadata": {
        "colab": {
          "base_uri": "https://localhost:8080/"
        },
        "id": "Zc-6toXQe6BS",
        "outputId": "c11afcca-6406-475d-cddc-60a5365081ba"
      },
      "execution_count": null,
      "outputs": [
        {
          "output_type": "execute_result",
          "data": {
            "text/plain": [
              "array([1, 2, 3])"
            ]
          },
          "metadata": {},
          "execution_count": 6
        }
      ]
    },
    {
      "cell_type": "markdown",
      "source": [
        "###1 - Existe diferença estatisticamente significativa na durabilidade dos batons com formulas diferentes?"
      ],
      "metadata": {
        "id": "IP_H-kipfvCR"
      }
    },
    {
      "cell_type": "markdown",
      "source": [
        "###Formulação das hipóteses:\n",
        "\n",
        "HO = NÃO HÁ DIFERENÇA ENTRE A DURABILIDADE QUANTO AS FÓRMULAS\n",
        "\n",
        "H1 = HÁ DIFERENÇA QUANTO A DURABILIDADE ENTRE AS FÓRMULAS"
      ],
      "metadata": {
        "id": "FDFY1wytgbCl"
      }
    },
    {
      "cell_type": "code",
      "source": [
        "#analisando a média e o desvio padrão da formula-1\n",
        "formula1 = dados.groupby(dados.query('id_produto == 1').id_produto)\n",
        "media1 = formula1['durabilidade'].mean()\n",
        "desvio1 = formula1['durabilidade'].std()\n",
        "print('média: ', media1[1],'|', 'desvio padrão: ', desvio1[1].round(2))\n",
        "\n",
        "\n",
        "\n"
      ],
      "metadata": {
        "colab": {
          "base_uri": "https://localhost:8080/"
        },
        "id": "93Fm-7xNfSb6",
        "outputId": "2e995781-5eba-4897-992b-343457158f2d"
      },
      "execution_count": null,
      "outputs": [
        {
          "output_type": "stream",
          "name": "stdout",
          "text": [
            "média:  15.11 | desvio padrão:  3.28\n"
          ]
        }
      ]
    },
    {
      "cell_type": "code",
      "source": [
        "#analisando a formula-1 com exposição ao sol\n",
        "\n",
        "formula1 = dados.groupby(dados.query('id_produto == 1 and exposicao_sol == 1').id_produto)\n",
        "media1 = formula1['durabilidade'].mean()\n",
        "desvio1 = formula1['durabilidade'].std()\n",
        "print('média: ', media1[1].round(2),'|', 'desvio padrão: ', desvio1[1].round(2))"
      ],
      "metadata": {
        "colab": {
          "base_uri": "https://localhost:8080/"
        },
        "id": "iCJD0jmzwucM",
        "outputId": "28fd5482-d981-455e-cf41-a799718dbfc6"
      },
      "execution_count": null,
      "outputs": [
        {
          "output_type": "stream",
          "name": "stdout",
          "text": [
            "média:  11.91 | desvio padrão:  1.58\n"
          ]
        }
      ]
    },
    {
      "cell_type": "code",
      "source": [
        "#analisando a formula-1 sem exposição ao sol\n",
        "\n",
        "formula1 = dados.groupby(dados.query('id_produto == 1 and exposicao_sol == 0').id_produto)\n",
        "media1 = formula1['durabilidade'].mean()\n",
        "desvio1 = formula1['durabilidade'].std()\n",
        "print('média: ', media1[1].round(2),'|', 'desvio padrão: ', desvio1[1].round(2))"
      ],
      "metadata": {
        "colab": {
          "base_uri": "https://localhost:8080/"
        },
        "id": "77l34F1XxQFb",
        "outputId": "9035633e-1080-42de-8ae0-d5556615f298"
      },
      "execution_count": null,
      "outputs": [
        {
          "output_type": "stream",
          "name": "stdout",
          "text": [
            "média:  17.73 | desvio padrão:  1.5\n"
          ]
        }
      ]
    },
    {
      "cell_type": "markdown",
      "source": [
        "___"
      ],
      "metadata": {
        "id": "iofIunj9xpWm"
      }
    },
    {
      "cell_type": "code",
      "source": [
        "#analisando a formula-2\n",
        "formula2 = dados.groupby(dados.query('id_produto == 2').id_produto)\n",
        "media2 = formula2['durabilidade'].mean()\n",
        "desvio2 = formula2['durabilidade'].std()\n",
        "print('média: ', media2[2],'|', 'desvio padrão: ', desvio2[2].round(2))\n"
      ],
      "metadata": {
        "colab": {
          "base_uri": "https://localhost:8080/"
        },
        "id": "7rVC5Uf9iPil",
        "outputId": "898c8325-911d-4b5d-9aae-f13cc5ab775b"
      },
      "execution_count": null,
      "outputs": [
        {
          "output_type": "stream",
          "name": "stdout",
          "text": [
            "média:  7.77 | desvio padrão:  1.94\n"
          ]
        }
      ]
    },
    {
      "cell_type": "code",
      "source": [
        "#analisando a formula-2 com exposição ao sol\n",
        "formula2 = dados.groupby(dados.query('id_produto == 2 and exposicao_sol==1').id_produto)\n",
        "media2 = formula2['durabilidade'].mean()\n",
        "desvio2 = formula2['durabilidade'].std()\n",
        "print('média: ', media2[2].round(2),'|', 'desvio padrão: ', desvio2[2].round(2))\n"
      ],
      "metadata": {
        "colab": {
          "base_uri": "https://localhost:8080/"
        },
        "id": "7UdNGoJOxvi-",
        "outputId": "1327acf2-c770-413f-d33b-ec7f5c8f5a48"
      },
      "execution_count": null,
      "outputs": [
        {
          "output_type": "stream",
          "name": "stdout",
          "text": [
            "média:  7.56 | desvio padrão:  1.81\n"
          ]
        }
      ]
    },
    {
      "cell_type": "code",
      "source": [
        "#analisando a formula-2 sem exposição ao sol\n",
        "formula2 = dados.groupby(dados.query('id_produto == 2 and exposicao_sol==0').id_produto)\n",
        "media2 = formula2['durabilidade'].mean()\n",
        "desvio2 = formula2['durabilidade'].std()\n",
        "print('média: ', media2[2].round(2),'|', 'desvio padrão: ', desvio2[2].round(2))"
      ],
      "metadata": {
        "colab": {
          "base_uri": "https://localhost:8080/"
        },
        "id": "ixQPOsnUx3xJ",
        "outputId": "202b18bd-1ef5-40ce-cc25-9d8f5e0fd0b5"
      },
      "execution_count": null,
      "outputs": [
        {
          "output_type": "stream",
          "name": "stdout",
          "text": [
            "média:  7.96 | desvio padrão:  2.06\n"
          ]
        }
      ]
    },
    {
      "cell_type": "markdown",
      "source": [
        "---"
      ],
      "metadata": {
        "id": "xwHxD-mmx7gX"
      }
    },
    {
      "cell_type": "code",
      "source": [
        "#analisando a média e o desvio padrão da formula-3\n",
        "formula3 = dados.groupby(dados.query('id_produto == 3').id_produto)\n",
        "media3 = formula3['durabilidade'].mean()\n",
        "desvio3 = formula3['durabilidade'].std()\n",
        "print('média: ', media3[3],'|', 'desvio padrão: ', desvio3[3].round(2))"
      ],
      "metadata": {
        "colab": {
          "base_uri": "https://localhost:8080/"
        },
        "id": "Nh0Mg2P6iZ4o",
        "outputId": "05d955d5-0cba-48a3-e2a4-b903b7029e6f"
      },
      "execution_count": null,
      "outputs": [
        {
          "output_type": "stream",
          "name": "stdout",
          "text": [
            "média:  28.52 | desvio padrão:  11.11\n"
          ]
        }
      ]
    },
    {
      "cell_type": "code",
      "source": [
        "#analisando a formula-3 com exposição ao sol\n",
        "formula3 = dados.groupby(dados.query('id_produto == 3 and exposicao_sol==1').id_produto)\n",
        "media3 = formula3['durabilidade'].mean()\n",
        "desvio3 = formula3['durabilidade'].std()\n",
        "print('média: ', media3[3].round(2),'|', 'desvio padrão: ', desvio3[3].round(2))"
      ],
      "metadata": {
        "colab": {
          "base_uri": "https://localhost:8080/"
        },
        "id": "vV9-AyYeyBhE",
        "outputId": "c34d6a1f-ba4d-4c72-ea77-1c2e150c5d5e"
      },
      "execution_count": null,
      "outputs": [
        {
          "output_type": "stream",
          "name": "stdout",
          "text": [
            "média:  20.1 | desvio padrão:  8.47\n"
          ]
        }
      ]
    },
    {
      "cell_type": "code",
      "source": [
        "#analisando a formula-3 sem exposição ao sol\n",
        "formula3 = dados.groupby(dados.query('id_produto == 3 and exposicao_sol==0').id_produto)\n",
        "media3 = formula3['durabilidade'].mean()\n",
        "desvio3 = formula3['durabilidade'].std()\n",
        "print('média: ', media3[3].round(2),'|', 'desvio padrão: ', desvio3[3].round(2))"
      ],
      "metadata": {
        "colab": {
          "base_uri": "https://localhost:8080/"
        },
        "id": "elT0dhz0yIKZ",
        "outputId": "007c7fed-8e21-4672-c277-a66c9ba7ee6b"
      },
      "execution_count": null,
      "outputs": [
        {
          "output_type": "stream",
          "name": "stdout",
          "text": [
            "média:  33.9 | desvio padrão:  9.1\n"
          ]
        }
      ]
    },
    {
      "cell_type": "code",
      "source": [
        "statistic, p_valor = stats.normaltest(dados.durabilidade)\n",
        "print(statistic.round(2), p_valor.round(2))"
      ],
      "metadata": {
        "id": "fplwXkKxjLpo",
        "colab": {
          "base_uri": "https://localhost:8080/"
        },
        "outputId": "fd301d21-581d-4707-f29e-2f900dcc5f8f"
      },
      "execution_count": null,
      "outputs": [
        {
          "output_type": "stream",
          "name": "stdout",
          "text": [
            "57.36 0.0\n"
          ]
        }
      ]
    },
    {
      "cell_type": "code",
      "source": [
        "significancia = 0.05\n"
      ],
      "metadata": {
        "id": "ZQwtvX4m6ShF"
      },
      "execution_count": null,
      "outputs": []
    },
    {
      "cell_type": "code",
      "source": [
        "p_valor <= significancia"
      ],
      "metadata": {
        "colab": {
          "base_uri": "https://localhost:8080/"
        },
        "id": "wakSZ4Hg6ikp",
        "outputId": "b359beec-0883-46fb-f86d-11d1e6f1fd76"
      },
      "execution_count": null,
      "outputs": [
        {
          "output_type": "execute_result",
          "data": {
            "text/plain": [
              "True"
            ]
          },
          "metadata": {},
          "execution_count": 18
        }
      ]
    },
    {
      "cell_type": "markdown",
      "source": [
        "Portanto não possui distribuição normal\n",
        "\n"
      ],
      "metadata": {
        "id": "QK08M5bcYQTj"
      }
    },
    {
      "cell_type": "markdown",
      "source": [
        "##Aplicando a Análise Exploratória##"
      ],
      "metadata": {
        "id": "ZdjcJwtqYBCV"
      }
    },
    {
      "cell_type": "code",
      "source": [
        "dados.shape"
      ],
      "metadata": {
        "colab": {
          "base_uri": "https://localhost:8080/"
        },
        "id": "CpHJOVhc6k4H",
        "outputId": "83149f09-b66d-4565-85f8-d6a95b1ea79e"
      },
      "execution_count": null,
      "outputs": [
        {
          "output_type": "execute_result",
          "data": {
            "text/plain": [
              "(300, 5)"
            ]
          },
          "metadata": {},
          "execution_count": 19
        }
      ]
    },
    {
      "cell_type": "code",
      "source": [
        "dados.info()"
      ],
      "metadata": {
        "colab": {
          "base_uri": "https://localhost:8080/"
        },
        "id": "Aso1fCmdWbdl",
        "outputId": "82c2c5ae-ea09-4fa3-b600-951b73f5564d"
      },
      "execution_count": null,
      "outputs": [
        {
          "output_type": "stream",
          "name": "stdout",
          "text": [
            "<class 'pandas.core.frame.DataFrame'>\n",
            "RangeIndex: 300 entries, 0 to 299\n",
            "Data columns (total 5 columns):\n",
            " #   Column         Non-Null Count  Dtype\n",
            "---  ------         --------------  -----\n",
            " 0   id_produto     300 non-null    int64\n",
            " 1   id_voluntária  300 non-null    int64\n",
            " 2   durabilidade   300 non-null    int64\n",
            " 3   idade          300 non-null    int64\n",
            " 4   exposicao_sol  300 non-null    int64\n",
            "dtypes: int64(5)\n",
            "memory usage: 11.8 KB\n"
          ]
        }
      ]
    },
    {
      "cell_type": "code",
      "source": [
        "dados.describe().T"
      ],
      "metadata": {
        "colab": {
          "base_uri": "https://localhost:8080/",
          "height": 206
        },
        "id": "k0eeNSUlWlQV",
        "outputId": "b93c9f6d-f4ef-4d5f-d83c-3e0b8419a3cd"
      },
      "execution_count": null,
      "outputs": [
        {
          "output_type": "execute_result",
          "data": {
            "text/plain": [
              "               count        mean        std   min    25%    50%     75%    max\n",
              "id_produto     300.0    2.000000   0.817861   1.0   1.00    2.0    3.00    3.0\n",
              "id_voluntária  300.0  150.500000  86.746758   1.0  75.75  150.5  225.25  300.0\n",
              "durabilidade   300.0   17.133333  10.942945   5.0   9.00   14.0   20.00   48.0\n",
              "idade          300.0   36.886667  12.625841  18.0  26.00   36.0   48.00   60.0\n",
              "exposicao_sol  300.0    0.440000   0.497216   0.0   0.00    0.0    1.00    1.0"
            ],
            "text/html": [
              "\n",
              "  <div id=\"df-2c75ea81-f292-4f79-b25d-612552bbe910\" class=\"colab-df-container\">\n",
              "    <div>\n",
              "<style scoped>\n",
              "    .dataframe tbody tr th:only-of-type {\n",
              "        vertical-align: middle;\n",
              "    }\n",
              "\n",
              "    .dataframe tbody tr th {\n",
              "        vertical-align: top;\n",
              "    }\n",
              "\n",
              "    .dataframe thead th {\n",
              "        text-align: right;\n",
              "    }\n",
              "</style>\n",
              "<table border=\"1\" class=\"dataframe\">\n",
              "  <thead>\n",
              "    <tr style=\"text-align: right;\">\n",
              "      <th></th>\n",
              "      <th>count</th>\n",
              "      <th>mean</th>\n",
              "      <th>std</th>\n",
              "      <th>min</th>\n",
              "      <th>25%</th>\n",
              "      <th>50%</th>\n",
              "      <th>75%</th>\n",
              "      <th>max</th>\n",
              "    </tr>\n",
              "  </thead>\n",
              "  <tbody>\n",
              "    <tr>\n",
              "      <th>id_produto</th>\n",
              "      <td>300.0</td>\n",
              "      <td>2.000000</td>\n",
              "      <td>0.817861</td>\n",
              "      <td>1.0</td>\n",
              "      <td>1.00</td>\n",
              "      <td>2.0</td>\n",
              "      <td>3.00</td>\n",
              "      <td>3.0</td>\n",
              "    </tr>\n",
              "    <tr>\n",
              "      <th>id_voluntária</th>\n",
              "      <td>300.0</td>\n",
              "      <td>150.500000</td>\n",
              "      <td>86.746758</td>\n",
              "      <td>1.0</td>\n",
              "      <td>75.75</td>\n",
              "      <td>150.5</td>\n",
              "      <td>225.25</td>\n",
              "      <td>300.0</td>\n",
              "    </tr>\n",
              "    <tr>\n",
              "      <th>durabilidade</th>\n",
              "      <td>300.0</td>\n",
              "      <td>17.133333</td>\n",
              "      <td>10.942945</td>\n",
              "      <td>5.0</td>\n",
              "      <td>9.00</td>\n",
              "      <td>14.0</td>\n",
              "      <td>20.00</td>\n",
              "      <td>48.0</td>\n",
              "    </tr>\n",
              "    <tr>\n",
              "      <th>idade</th>\n",
              "      <td>300.0</td>\n",
              "      <td>36.886667</td>\n",
              "      <td>12.625841</td>\n",
              "      <td>18.0</td>\n",
              "      <td>26.00</td>\n",
              "      <td>36.0</td>\n",
              "      <td>48.00</td>\n",
              "      <td>60.0</td>\n",
              "    </tr>\n",
              "    <tr>\n",
              "      <th>exposicao_sol</th>\n",
              "      <td>300.0</td>\n",
              "      <td>0.440000</td>\n",
              "      <td>0.497216</td>\n",
              "      <td>0.0</td>\n",
              "      <td>0.00</td>\n",
              "      <td>0.0</td>\n",
              "      <td>1.00</td>\n",
              "      <td>1.0</td>\n",
              "    </tr>\n",
              "  </tbody>\n",
              "</table>\n",
              "</div>\n",
              "    <div class=\"colab-df-buttons\">\n",
              "\n",
              "  <div class=\"colab-df-container\">\n",
              "    <button class=\"colab-df-convert\" onclick=\"convertToInteractive('df-2c75ea81-f292-4f79-b25d-612552bbe910')\"\n",
              "            title=\"Convert this dataframe to an interactive table.\"\n",
              "            style=\"display:none;\">\n",
              "\n",
              "  <svg xmlns=\"http://www.w3.org/2000/svg\" height=\"24px\" viewBox=\"0 -960 960 960\">\n",
              "    <path d=\"M120-120v-720h720v720H120Zm60-500h600v-160H180v160Zm220 220h160v-160H400v160Zm0 220h160v-160H400v160ZM180-400h160v-160H180v160Zm440 0h160v-160H620v160ZM180-180h160v-160H180v160Zm440 0h160v-160H620v160Z\"/>\n",
              "  </svg>\n",
              "    </button>\n",
              "\n",
              "  <style>\n",
              "    .colab-df-container {\n",
              "      display:flex;\n",
              "      gap: 12px;\n",
              "    }\n",
              "\n",
              "    .colab-df-convert {\n",
              "      background-color: #E8F0FE;\n",
              "      border: none;\n",
              "      border-radius: 50%;\n",
              "      cursor: pointer;\n",
              "      display: none;\n",
              "      fill: #1967D2;\n",
              "      height: 32px;\n",
              "      padding: 0 0 0 0;\n",
              "      width: 32px;\n",
              "    }\n",
              "\n",
              "    .colab-df-convert:hover {\n",
              "      background-color: #E2EBFA;\n",
              "      box-shadow: 0px 1px 2px rgba(60, 64, 67, 0.3), 0px 1px 3px 1px rgba(60, 64, 67, 0.15);\n",
              "      fill: #174EA6;\n",
              "    }\n",
              "\n",
              "    .colab-df-buttons div {\n",
              "      margin-bottom: 4px;\n",
              "    }\n",
              "\n",
              "    [theme=dark] .colab-df-convert {\n",
              "      background-color: #3B4455;\n",
              "      fill: #D2E3FC;\n",
              "    }\n",
              "\n",
              "    [theme=dark] .colab-df-convert:hover {\n",
              "      background-color: #434B5C;\n",
              "      box-shadow: 0px 1px 3px 1px rgba(0, 0, 0, 0.15);\n",
              "      filter: drop-shadow(0px 1px 2px rgba(0, 0, 0, 0.3));\n",
              "      fill: #FFFFFF;\n",
              "    }\n",
              "  </style>\n",
              "\n",
              "    <script>\n",
              "      const buttonEl =\n",
              "        document.querySelector('#df-2c75ea81-f292-4f79-b25d-612552bbe910 button.colab-df-convert');\n",
              "      buttonEl.style.display =\n",
              "        google.colab.kernel.accessAllowed ? 'block' : 'none';\n",
              "\n",
              "      async function convertToInteractive(key) {\n",
              "        const element = document.querySelector('#df-2c75ea81-f292-4f79-b25d-612552bbe910');\n",
              "        const dataTable =\n",
              "          await google.colab.kernel.invokeFunction('convertToInteractive',\n",
              "                                                    [key], {});\n",
              "        if (!dataTable) return;\n",
              "\n",
              "        const docLinkHtml = 'Like what you see? Visit the ' +\n",
              "          '<a target=\"_blank\" href=https://colab.research.google.com/notebooks/data_table.ipynb>data table notebook</a>'\n",
              "          + ' to learn more about interactive tables.';\n",
              "        element.innerHTML = '';\n",
              "        dataTable['output_type'] = 'display_data';\n",
              "        await google.colab.output.renderOutput(dataTable, element);\n",
              "        const docLink = document.createElement('div');\n",
              "        docLink.innerHTML = docLinkHtml;\n",
              "        element.appendChild(docLink);\n",
              "      }\n",
              "    </script>\n",
              "  </div>\n",
              "\n",
              "\n",
              "<div id=\"df-32a8358a-6476-42c9-bf20-23f53e15acbe\">\n",
              "  <button class=\"colab-df-quickchart\" onclick=\"quickchart('df-32a8358a-6476-42c9-bf20-23f53e15acbe')\"\n",
              "            title=\"Suggest charts.\"\n",
              "            style=\"display:none;\">\n",
              "\n",
              "<svg xmlns=\"http://www.w3.org/2000/svg\" height=\"24px\"viewBox=\"0 0 24 24\"\n",
              "     width=\"24px\">\n",
              "    <g>\n",
              "        <path d=\"M19 3H5c-1.1 0-2 .9-2 2v14c0 1.1.9 2 2 2h14c1.1 0 2-.9 2-2V5c0-1.1-.9-2-2-2zM9 17H7v-7h2v7zm4 0h-2V7h2v10zm4 0h-2v-4h2v4z\"/>\n",
              "    </g>\n",
              "</svg>\n",
              "  </button>\n",
              "\n",
              "<style>\n",
              "  .colab-df-quickchart {\n",
              "      --bg-color: #E8F0FE;\n",
              "      --fill-color: #1967D2;\n",
              "      --hover-bg-color: #E2EBFA;\n",
              "      --hover-fill-color: #174EA6;\n",
              "      --disabled-fill-color: #AAA;\n",
              "      --disabled-bg-color: #DDD;\n",
              "  }\n",
              "\n",
              "  [theme=dark] .colab-df-quickchart {\n",
              "      --bg-color: #3B4455;\n",
              "      --fill-color: #D2E3FC;\n",
              "      --hover-bg-color: #434B5C;\n",
              "      --hover-fill-color: #FFFFFF;\n",
              "      --disabled-bg-color: #3B4455;\n",
              "      --disabled-fill-color: #666;\n",
              "  }\n",
              "\n",
              "  .colab-df-quickchart {\n",
              "    background-color: var(--bg-color);\n",
              "    border: none;\n",
              "    border-radius: 50%;\n",
              "    cursor: pointer;\n",
              "    display: none;\n",
              "    fill: var(--fill-color);\n",
              "    height: 32px;\n",
              "    padding: 0;\n",
              "    width: 32px;\n",
              "  }\n",
              "\n",
              "  .colab-df-quickchart:hover {\n",
              "    background-color: var(--hover-bg-color);\n",
              "    box-shadow: 0 1px 2px rgba(60, 64, 67, 0.3), 0 1px 3px 1px rgba(60, 64, 67, 0.15);\n",
              "    fill: var(--button-hover-fill-color);\n",
              "  }\n",
              "\n",
              "  .colab-df-quickchart-complete:disabled,\n",
              "  .colab-df-quickchart-complete:disabled:hover {\n",
              "    background-color: var(--disabled-bg-color);\n",
              "    fill: var(--disabled-fill-color);\n",
              "    box-shadow: none;\n",
              "  }\n",
              "\n",
              "  .colab-df-spinner {\n",
              "    border: 2px solid var(--fill-color);\n",
              "    border-color: transparent;\n",
              "    border-bottom-color: var(--fill-color);\n",
              "    animation:\n",
              "      spin 1s steps(1) infinite;\n",
              "  }\n",
              "\n",
              "  @keyframes spin {\n",
              "    0% {\n",
              "      border-color: transparent;\n",
              "      border-bottom-color: var(--fill-color);\n",
              "      border-left-color: var(--fill-color);\n",
              "    }\n",
              "    20% {\n",
              "      border-color: transparent;\n",
              "      border-left-color: var(--fill-color);\n",
              "      border-top-color: var(--fill-color);\n",
              "    }\n",
              "    30% {\n",
              "      border-color: transparent;\n",
              "      border-left-color: var(--fill-color);\n",
              "      border-top-color: var(--fill-color);\n",
              "      border-right-color: var(--fill-color);\n",
              "    }\n",
              "    40% {\n",
              "      border-color: transparent;\n",
              "      border-right-color: var(--fill-color);\n",
              "      border-top-color: var(--fill-color);\n",
              "    }\n",
              "    60% {\n",
              "      border-color: transparent;\n",
              "      border-right-color: var(--fill-color);\n",
              "    }\n",
              "    80% {\n",
              "      border-color: transparent;\n",
              "      border-right-color: var(--fill-color);\n",
              "      border-bottom-color: var(--fill-color);\n",
              "    }\n",
              "    90% {\n",
              "      border-color: transparent;\n",
              "      border-bottom-color: var(--fill-color);\n",
              "    }\n",
              "  }\n",
              "</style>\n",
              "\n",
              "  <script>\n",
              "    async function quickchart(key) {\n",
              "      const quickchartButtonEl =\n",
              "        document.querySelector('#' + key + ' button');\n",
              "      quickchartButtonEl.disabled = true;  // To prevent multiple clicks.\n",
              "      quickchartButtonEl.classList.add('colab-df-spinner');\n",
              "      try {\n",
              "        const charts = await google.colab.kernel.invokeFunction(\n",
              "            'suggestCharts', [key], {});\n",
              "      } catch (error) {\n",
              "        console.error('Error during call to suggestCharts:', error);\n",
              "      }\n",
              "      quickchartButtonEl.classList.remove('colab-df-spinner');\n",
              "      quickchartButtonEl.classList.add('colab-df-quickchart-complete');\n",
              "    }\n",
              "    (() => {\n",
              "      let quickchartButtonEl =\n",
              "        document.querySelector('#df-32a8358a-6476-42c9-bf20-23f53e15acbe button');\n",
              "      quickchartButtonEl.style.display =\n",
              "        google.colab.kernel.accessAllowed ? 'block' : 'none';\n",
              "    })();\n",
              "  </script>\n",
              "</div>\n",
              "    </div>\n",
              "  </div>\n"
            ]
          },
          "metadata": {},
          "execution_count": 21
        }
      ]
    },
    {
      "cell_type": "code",
      "source": [
        "print(formula1['durabilidade'].quantile(q=0.75) - formula1['durabilidade'].quantile(q=0.25))"
      ],
      "metadata": {
        "colab": {
          "base_uri": "https://localhost:8080/"
        },
        "id": "JNfPRUalWm-o",
        "outputId": "8b8340bb-f67e-47ab-d9cb-b2ee7d861bf8"
      },
      "execution_count": null,
      "outputs": [
        {
          "output_type": "stream",
          "name": "stdout",
          "text": [
            "id_produto\n",
            "1.0    2.0\n",
            "Name: durabilidade, dtype: float64\n"
          ]
        }
      ]
    },
    {
      "cell_type": "code",
      "source": [
        "print(formula2['durabilidade'].quantile(q=0.75) - formula2['durabilidade'].quantile(q=0.25) )"
      ],
      "metadata": {
        "colab": {
          "base_uri": "https://localhost:8080/"
        },
        "id": "9Erp9FrbY-mu",
        "outputId": "5295539c-341d-4497-a2f7-8df3a4a3b112"
      },
      "execution_count": null,
      "outputs": [
        {
          "output_type": "stream",
          "name": "stdout",
          "text": [
            "id_produto\n",
            "2.0    3.0\n",
            "Name: durabilidade, dtype: float64\n"
          ]
        }
      ]
    },
    {
      "cell_type": "code",
      "source": [
        "print(formula3['durabilidade'].quantile(q=0.75) - formula3['durabilidade'].quantile(q=0.25) )"
      ],
      "metadata": {
        "colab": {
          "base_uri": "https://localhost:8080/"
        },
        "id": "1puqr_YYZQla",
        "outputId": "a911b41e-5bea-4d9a-ed62-7b97e50d1727"
      },
      "execution_count": null,
      "outputs": [
        {
          "output_type": "stream",
          "name": "stdout",
          "text": [
            "id_produto\n",
            "3.0    14.0\n",
            "Name: durabilidade, dtype: float64\n"
          ]
        }
      ]
    },
    {
      "cell_type": "markdown",
      "source": [
        "###Gerando os bloxplot's dos diferentes tipos de fórmulas com a condição de se expor ao sol ou não"
      ],
      "metadata": {
        "id": "ZOLPJdl3wD_O"
      }
    },
    {
      "cell_type": "code",
      "source": [
        "#Fórmula 1 com exposição ao sol\n",
        "dados_1 = dados.query('id_produto == 1 and exposicao_sol==1')\n",
        "\n"
      ],
      "metadata": {
        "id": "_Yk7SGJZvb1N"
      },
      "execution_count": null,
      "outputs": []
    },
    {
      "cell_type": "code",
      "source": [
        "#Plotando BoxPlot da fórmula 1 com exposição ao sol\n",
        "\n",
        "plt.figure(figsize=(8, 5))\n",
        "sns.boxplot(data=dados_1, x='durabilidade')\n",
        "plt.title(\"Boxplot da durabilidade\")\n",
        "plt.xlabel(\"Durabilidade em horas\")\n",
        "plt.show()"
      ],
      "metadata": {
        "colab": {
          "base_uri": "https://localhost:8080/",
          "height": 487
        },
        "id": "-atbWLtfwvM6",
        "outputId": "019df3a8-da7d-484c-854f-e47e1fada6a6"
      },
      "execution_count": null,
      "outputs": [
        {
          "output_type": "display_data",
          "data": {
            "text/plain": [
              "<Figure size 800x500 with 1 Axes>"
            ],
            "image/png": "[encoded data removed]"
          },
          "metadata": {}
        }
      ]
    },
    {
      "cell_type": "code",
      "source": [
        "#Fórmula 1 sem exposição ao sol\n",
        "dados_2 = dados.query('id_produto == 1 and exposicao_sol==0')\n"
      ],
      "metadata": {
        "id": "IdobX3qBweHk"
      },
      "execution_count": null,
      "outputs": []
    },
    {
      "cell_type": "code",
      "source": [
        "#Plotando BoxPlot da fórmula 1 sem exposição ao sol\n",
        "\n",
        "plt.figure(figsize=(8, 5))\n",
        "sns.boxplot(data=dados_2, x='durabilidade')\n",
        "plt.title(\"Boxplot da durabilidade\")\n",
        "plt.xlabel(\"Durabilidade em horas\")\n",
        "plt.show()"
      ],
      "metadata": {
        "colab": {
          "base_uri": "https://localhost:8080/",
          "height": 487
        },
        "id": "TZVgVoP7aItL",
        "outputId": "f45a4795-ce39-4071-cc75-3c7f4cdd303b"
      },
      "execution_count": null,
      "outputs": [
        {
          "output_type": "display_data",
          "data": {
            "text/plain": [
              "<Figure size 800x500 with 1 Axes>"
            ],
            "image/png": "[encoded data removed]"
          },
          "metadata": {}
        }
      ]
    },
    {
      "cell_type": "code",
      "source": [
        "#Fórmula 2 com exposição ao sol\n",
        "dados_3 = dados.query('id_produto == 2 and exposicao_sol==1')\n"
      ],
      "metadata": {
        "id": "ebV4WkzMxrEf"
      },
      "execution_count": null,
      "outputs": []
    },
    {
      "cell_type": "code",
      "source": [
        "#Plotando BoxPlot da fórmula 2 com exposição ao sol\n",
        "\n",
        "plt.figure(figsize=(8, 5))\n",
        "sns.boxplot(data=dados_3, x='durabilidade')\n",
        "plt.title(\"Boxplot da durabilidade\")\n",
        "plt.xlabel(\"Durabilidade em horas\")\n",
        "plt.show()"
      ],
      "metadata": {
        "colab": {
          "base_uri": "https://localhost:8080/",
          "height": 487
        },
        "id": "mbGVd02Rx0v6",
        "outputId": "aa1937d2-f514-4073-98d2-f06727d1416c"
      },
      "execution_count": null,
      "outputs": [
        {
          "output_type": "display_data",
          "data": {
            "text/plain": [
              "<Figure size 800x500 with 1 Axes>"
            ],
            "image/png": "[encoded data removed]"
          },
          "metadata": {}
        }
      ]
    },
    {
      "cell_type": "code",
      "source": [
        "#Fórmula 2 sem exposição ao sol\n",
        "dados_4 = dados.query('id_produto == 2 and exposicao_sol==0')\n"
      ],
      "metadata": {
        "id": "ygsxWQPzx9HR"
      },
      "execution_count": null,
      "outputs": []
    },
    {
      "cell_type": "code",
      "source": [
        "#Plotando BoxPlot da fórmula 2 sem exposição ao sol\n",
        "\n",
        "plt.figure(figsize=(8, 5))\n",
        "sns.boxplot(data=dados_4, x='durabilidade')\n",
        "plt.title(\"Boxplot da durabilidade\")\n",
        "plt.xlabel(\"Durabilidade em horas\")\n",
        "plt.show()"
      ],
      "metadata": {
        "colab": {
          "base_uri": "https://localhost:8080/",
          "height": 487
        },
        "id": "Zti29bvvyDTY",
        "outputId": "db675ad4-b8d9-425d-b9b7-78fbb622d21e"
      },
      "execution_count": null,
      "outputs": [
        {
          "output_type": "display_data",
          "data": {
            "text/plain": [
              "<Figure size 800x500 with 1 Axes>"
            ],
            "image/png": "[encoded data removed]"
          },
          "metadata": {}
        }
      ]
    },
    {
      "cell_type": "code",
      "source": [
        "#Fórmula 3 com exposição ao sol\n",
        "dados_5 = dados.query('id_produto == 3 and exposicao_sol==1')\n"
      ],
      "metadata": {
        "id": "Nz4j2M_byVh-"
      },
      "execution_count": null,
      "outputs": []
    },
    {
      "cell_type": "code",
      "source": [
        "#Plotando BoxPlot da fórmula 3 com exposição ao sol\n",
        "\n",
        "plt.figure(figsize=(8, 5))\n",
        "sns.boxplot(data=dados_5, x='durabilidade')\n",
        "plt.title(\"Boxplot da durabilidade\")\n",
        "plt.xlabel(\"Durabilidade em horas\")\n",
        "plt.show()"
      ],
      "metadata": {
        "colab": {
          "base_uri": "https://localhost:8080/",
          "height": 487
        },
        "id": "x_LEZmieycsr",
        "outputId": "8e306dc9-eda1-4e27-f5f6-1d1cdf5e1feb"
      },
      "execution_count": null,
      "outputs": [
        {
          "output_type": "display_data",
          "data": {
            "text/plain": [
              "<Figure size 800x500 with 1 Axes>"
            ],
            "image/png": "[encoded data removed]"
          },
          "metadata": {}
        }
      ]
    },
    {
      "cell_type": "code",
      "source": [
        "#Fórmula 3 sem exposição ao sol\n",
        "dados_6 = dados.query('id_produto == 3 and exposicao_sol==0')\n"
      ],
      "metadata": {
        "id": "0o4HJpQhyl4U"
      },
      "execution_count": null,
      "outputs": []
    },
    {
      "cell_type": "code",
      "source": [
        "#Plotando BoxPlot da fórmula 3 sem exposição ao sol\n",
        "\n",
        "plt.figure(figsize=(8, 5))\n",
        "sns.boxplot(data=dados_6, x='durabilidade')\n",
        "plt.title(\"Boxplot da durabilidade\")\n",
        "plt.xlabel(\"Durabilidade em horas\")\n",
        "plt.show()"
      ],
      "metadata": {
        "colab": {
          "base_uri": "https://localhost:8080/",
          "height": 487
        },
        "id": "jgqTdr17ytKB",
        "outputId": "20ea6c4f-4734-4c94-ff5d-213ad528b13f"
      },
      "execution_count": null,
      "outputs": [
        {
          "output_type": "display_data",
          "data": {
            "text/plain": [
              "<Figure size 800x500 with 1 Axes>"
            ],
            "image/png": "[encoded data removed]"
          },
          "metadata": {}
        }
      ]
    },
    {
      "cell_type": "markdown",
      "source": [
        "###Calculando a assimetria"
      ],
      "metadata": {
        "id": "WZfC-c_Hd9j4"
      }
    },
    {
      "cell_type": "code",
      "source": [
        "print(formula1['durabilidade'].skew())"
      ],
      "metadata": {
        "colab": {
          "base_uri": "https://localhost:8080/"
        },
        "id": "mbrlvYWyaYaQ",
        "outputId": "bf41b6e0-99aa-4222-ceea-c3d27c7f4430"
      },
      "execution_count": null,
      "outputs": [
        {
          "output_type": "stream",
          "name": "stdout",
          "text": [
            "id_produto\n",
            "1.0   -0.338176\n",
            "Name: durabilidade, dtype: float64\n"
          ]
        }
      ]
    },
    {
      "cell_type": "code",
      "source": [
        "print(formula2['durabilidade'].skew())"
      ],
      "metadata": {
        "colab": {
          "base_uri": "https://localhost:8080/"
        },
        "id": "Jqlz4cXVeWmy",
        "outputId": "898eb06c-1d45-4196-f60a-ef7785aa276f"
      },
      "execution_count": null,
      "outputs": [
        {
          "output_type": "stream",
          "name": "stdout",
          "text": [
            "id_produto\n",
            "2.0   -0.01658\n",
            "Name: durabilidade, dtype: float64\n"
          ]
        }
      ]
    },
    {
      "cell_type": "code",
      "source": [
        "print(formula3['durabilidade'].skew())"
      ],
      "metadata": {
        "colab": {
          "base_uri": "https://localhost:8080/"
        },
        "id": "ttD9C2r6eiRE",
        "outputId": "5c9a9ccb-eb37-4a6b-f80f-2abb000a9f52"
      },
      "execution_count": null,
      "outputs": [
        {
          "output_type": "stream",
          "name": "stdout",
          "text": [
            "id_produto\n",
            "3.0   -0.30122\n",
            "Name: durabilidade, dtype: float64\n"
          ]
        }
      ]
    },
    {
      "cell_type": "code",
      "source": [
        "dados.corr()"
      ],
      "metadata": {
        "colab": {
          "base_uri": "https://localhost:8080/",
          "height": 206
        },
        "id": "_LqzYErljVDm",
        "outputId": "be494345-0468-444f-a732-3e67174950c4"
      },
      "execution_count": null,
      "outputs": [
        {
          "output_type": "execute_result",
          "data": {
            "text/plain": [
              "               id_produto  id_voluntária  durabilidade     idade  \\\n",
              "id_produto       1.000000       0.297458      0.501123 -0.160646   \n",
              "id_voluntária    0.297458       1.000000      0.197301 -0.067143   \n",
              "durabilidade     0.501123       0.197301      1.000000 -0.355607   \n",
              "idade           -0.160646      -0.067143     -0.355607  1.000000   \n",
              "exposicao_sol   -0.049346      -0.040942     -0.355654  0.165131   \n",
              "\n",
              "               exposicao_sol  \n",
              "id_produto         -0.049346  \n",
              "id_voluntária      -0.040942  \n",
              "durabilidade       -0.355654  \n",
              "idade               0.165131  \n",
              "exposicao_sol       1.000000  "
            ],
            "text/html": [
              "\n",
              "  <div id=\"df-70f65bf4-9976-4cc5-af5c-e2069320099b\" class=\"colab-df-container\">\n",
              "    <div>\n",
              "<style scoped>\n",
              "    .dataframe tbody tr th:only-of-type {\n",
              "        vertical-align: middle;\n",
              "    }\n",
              "\n",
              "    .dataframe tbody tr th {\n",
              "        vertical-align: top;\n",
              "    }\n",
              "\n",
              "    .dataframe thead th {\n",
              "        text-align: right;\n",
              "    }\n",
              "</style>\n",
              "<table border=\"1\" class=\"dataframe\">\n",
              "  <thead>\n",
              "    <tr style=\"text-align: right;\">\n",
              "      <th></th>\n",
              "      <th>id_produto</th>\n",
              "      <th>id_voluntária</th>\n",
              "      <th>durabilidade</th>\n",
              "      <th>idade</th>\n",
              "      <th>exposicao_sol</th>\n",
              "    </tr>\n",
              "  </thead>\n",
              "  <tbody>\n",
              "    <tr>\n",
              "      <th>id_produto</th>\n",
              "      <td>1.000000</td>\n",
              "      <td>0.297458</td>\n",
              "      <td>0.501123</td>\n",
              "      <td>-0.160646</td>\n",
              "      <td>-0.049346</td>\n",
              "    </tr>\n",
              "    <tr>\n",
              "      <th>id_voluntária</th>\n",
              "      <td>0.297458</td>\n",
              "      <td>1.000000</td>\n",
              "      <td>0.197301</td>\n",
              "      <td>-0.067143</td>\n",
              "      <td>-0.040942</td>\n",
              "    </tr>\n",
              "    <tr>\n",
              "      <th>durabilidade</th>\n",
              "      <td>0.501123</td>\n",
              "      <td>0.197301</td>\n",
              "      <td>1.000000</td>\n",
              "      <td>-0.355607</td>\n",
              "      <td>-0.355654</td>\n",
              "    </tr>\n",
              "    <tr>\n",
              "      <th>idade</th>\n",
              "      <td>-0.160646</td>\n",
              "      <td>-0.067143</td>\n",
              "      <td>-0.355607</td>\n",
              "      <td>1.000000</td>\n",
              "      <td>0.165131</td>\n",
              "    </tr>\n",
              "    <tr>\n",
              "      <th>exposicao_sol</th>\n",
              "      <td>-0.049346</td>\n",
              "      <td>-0.040942</td>\n",
              "      <td>-0.355654</td>\n",
              "      <td>0.165131</td>\n",
              "      <td>1.000000</td>\n",
              "    </tr>\n",
              "  </tbody>\n",
              "</table>\n",
              "</div>\n",
              "    <div class=\"colab-df-buttons\">\n",
              "\n",
              "  <div class=\"colab-df-container\">\n",
              "    <button class=\"colab-df-convert\" onclick=\"convertToInteractive('df-70f65bf4-9976-4cc5-af5c-e2069320099b')\"\n",
              "            title=\"Convert this dataframe to an interactive table.\"\n",
              "            style=\"display:none;\">\n",
              "\n",
              "  <svg xmlns=\"http://www.w3.org/2000/svg\" height=\"24px\" viewBox=\"0 -960 960 960\">\n",
              "    <path d=\"M120-120v-720h720v720H120Zm60-500h600v-160H180v160Zm220 220h160v-160H400v160Zm0 220h160v-160H400v160ZM180-400h160v-160H180v160Zm440 0h160v-160H620v160ZM180-180h160v-160H180v160Zm440 0h160v-160H620v160Z\"/>\n",
              "  </svg>\n",
              "    </button>\n",
              "\n",
              "  <style>\n",
              "    .colab-df-container {\n",
              "      display:flex;\n",
              "      gap: 12px;\n",
              "    }\n",
              "\n",
              "    .colab-df-convert {\n",
              "      background-color: #E8F0FE;\n",
              "      border: none;\n",
              "      border-radius: 50%;\n",
              "      cursor: pointer;\n",
              "      display: none;\n",
              "      fill: #1967D2;\n",
              "      height: 32px;\n",
              "      padding: 0 0 0 0;\n",
              "      width: 32px;\n",
              "    }\n",
              "\n",
              "    .colab-df-convert:hover {\n",
              "      background-color: #E2EBFA;\n",
              "      box-shadow: 0px 1px 2px rgba(60, 64, 67, 0.3), 0px 1px 3px 1px rgba(60, 64, 67, 0.15);\n",
              "      fill: #174EA6;\n",
              "    }\n",
              "\n",
              "    .colab-df-buttons div {\n",
              "      margin-bottom: 4px;\n",
              "    }\n",
              "\n",
              "    [theme=dark] .colab-df-convert {\n",
              "      background-color: #3B4455;\n",
              "      fill: #D2E3FC;\n",
              "    }\n",
              "\n",
              "    [theme=dark] .colab-df-convert:hover {\n",
              "      background-color: #434B5C;\n",
              "      box-shadow: 0px 1px 3px 1px rgba(0, 0, 0, 0.15);\n",
              "      filter: drop-shadow(0px 1px 2px rgba(0, 0, 0, 0.3));\n",
              "      fill: #FFFFFF;\n",
              "    }\n",
              "  </style>\n",
              "\n",
              "    <script>\n",
              "      const buttonEl =\n",
              "        document.querySelector('#df-70f65bf4-9976-4cc5-af5c-e2069320099b button.colab-df-convert');\n",
              "      buttonEl.style.display =\n",
              "        google.colab.kernel.accessAllowed ? 'block' : 'none';\n",
              "\n",
              "      async function convertToInteractive(key) {\n",
              "        const element = document.querySelector('#df-70f65bf4-9976-4cc5-af5c-e2069320099b');\n",
              "        const dataTable =\n",
              "          await google.colab.kernel.invokeFunction('convertToInteractive',\n",
              "                                                    [key], {});\n",
              "        if (!dataTable) return;\n",
              "\n",
              "        const docLinkHtml = 'Like what you see? Visit the ' +\n",
              "          '<a target=\"_blank\" href=https://colab.research.google.com/notebooks/data_table.ipynb>data table notebook</a>'\n",
              "          + ' to learn more about interactive tables.';\n",
              "        element.innerHTML = '';\n",
              "        dataTable['output_type'] = 'display_data';\n",
              "        await google.colab.output.renderOutput(dataTable, element);\n",
              "        const docLink = document.createElement('div');\n",
              "        docLink.innerHTML = docLinkHtml;\n",
              "        element.appendChild(docLink);\n",
              "      }\n",
              "    </script>\n",
              "  </div>\n",
              "\n",
              "\n",
              "<div id=\"df-98c89631-7ccb-460b-966b-40dd6b1a8183\">\n",
              "  <button class=\"colab-df-quickchart\" onclick=\"quickchart('df-98c89631-7ccb-460b-966b-40dd6b1a8183')\"\n",
              "            title=\"Suggest charts.\"\n",
              "            style=\"display:none;\">\n",
              "\n",
              "<svg xmlns=\"http://www.w3.org/2000/svg\" height=\"24px\"viewBox=\"0 0 24 24\"\n",
              "     width=\"24px\">\n",
              "    <g>\n",
              "        <path d=\"M19 3H5c-1.1 0-2 .9-2 2v14c0 1.1.9 2 2 2h14c1.1 0 2-.9 2-2V5c0-1.1-.9-2-2-2zM9 17H7v-7h2v7zm4 0h-2V7h2v10zm4 0h-2v-4h2v4z\"/>\n",
              "    </g>\n",
              "</svg>\n",
              "  </button>\n",
              "\n",
              "<style>\n",
              "  .colab-df-quickchart {\n",
              "      --bg-color: #E8F0FE;\n",
              "      --fill-color: #1967D2;\n",
              "      --hover-bg-color: #E2EBFA;\n",
              "      --hover-fill-color: #174EA6;\n",
              "      --disabled-fill-color: #AAA;\n",
              "      --disabled-bg-color: #DDD;\n",
              "  }\n",
              "\n",
              "  [theme=dark] .colab-df-quickchart {\n",
              "      --bg-color: #3B4455;\n",
              "      --fill-color: #D2E3FC;\n",
              "      --hover-bg-color: #434B5C;\n",
              "      --hover-fill-color: #FFFFFF;\n",
              "      --disabled-bg-color: #3B4455;\n",
              "      --disabled-fill-color: #666;\n",
              "  }\n",
              "\n",
              "  .colab-df-quickchart {\n",
              "    background-color: var(--bg-color);\n",
              "    border: none;\n",
              "    border-radius: 50%;\n",
              "    cursor: pointer;\n",
              "    display: none;\n",
              "    fill: var(--fill-color);\n",
              "    height: 32px;\n",
              "    padding: 0;\n",
              "    width: 32px;\n",
              "  }\n",
              "\n",
              "  .colab-df-quickchart:hover {\n",
              "    background-color: var(--hover-bg-color);\n",
              "    box-shadow: 0 1px 2px rgba(60, 64, 67, 0.3), 0 1px 3px 1px rgba(60, 64, 67, 0.15);\n",
              "    fill: var(--button-hover-fill-color);\n",
              "  }\n",
              "\n",
              "  .colab-df-quickchart-complete:disabled,\n",
              "  .colab-df-quickchart-complete:disabled:hover {\n",
              "    background-color: var(--disabled-bg-color);\n",
              "    fill: var(--disabled-fill-color);\n",
              "    box-shadow: none;\n",
              "  }\n",
              "\n",
              "  .colab-df-spinner {\n",
              "    border: 2px solid var(--fill-color);\n",
              "    border-color: transparent;\n",
              "    border-bottom-color: var(--fill-color);\n",
              "    animation:\n",
              "      spin 1s steps(1) infinite;\n",
              "  }\n",
              "\n",
              "  @keyframes spin {\n",
              "    0% {\n",
              "      border-color: transparent;\n",
              "      border-bottom-color: var(--fill-color);\n",
              "      border-left-color: var(--fill-color);\n",
              "    }\n",
              "    20% {\n",
              "      border-color: transparent;\n",
              "      border-left-color: var(--fill-color);\n",
              "      border-top-color: var(--fill-color);\n",
              "    }\n",
              "    30% {\n",
              "      border-color: transparent;\n",
              "      border-left-color: var(--fill-color);\n",
              "      border-top-color: var(--fill-color);\n",
              "      border-right-color: var(--fill-color);\n",
              "    }\n",
              "    40% {\n",
              "      border-color: transparent;\n",
              "      border-right-color: var(--fill-color);\n",
              "      border-top-color: var(--fill-color);\n",
              "    }\n",
              "    60% {\n",
              "      border-color: transparent;\n",
              "      border-right-color: var(--fill-color);\n",
              "    }\n",
              "    80% {\n",
              "      border-color: transparent;\n",
              "      border-right-color: var(--fill-color);\n",
              "      border-bottom-color: var(--fill-color);\n",
              "    }\n",
              "    90% {\n",
              "      border-color: transparent;\n",
              "      border-bottom-color: var(--fill-color);\n",
              "    }\n",
              "  }\n",
              "</style>\n",
              "\n",
              "  <script>\n",
              "    async function quickchart(key) {\n",
              "      const quickchartButtonEl =\n",
              "        document.querySelector('#' + key + ' button');\n",
              "      quickchartButtonEl.disabled = true;  // To prevent multiple clicks.\n",
              "      quickchartButtonEl.classList.add('colab-df-spinner');\n",
              "      try {\n",
              "        const charts = await google.colab.kernel.invokeFunction(\n",
              "            'suggestCharts', [key], {});\n",
              "      } catch (error) {\n",
              "        console.error('Error during call to suggestCharts:', error);\n",
              "      }\n",
              "      quickchartButtonEl.classList.remove('colab-df-spinner');\n",
              "      quickchartButtonEl.classList.add('colab-df-quickchart-complete');\n",
              "    }\n",
              "    (() => {\n",
              "      let quickchartButtonEl =\n",
              "        document.querySelector('#df-98c89631-7ccb-460b-966b-40dd6b1a8183 button');\n",
              "      quickchartButtonEl.style.display =\n",
              "        google.colab.kernel.accessAllowed ? 'block' : 'none';\n",
              "    })();\n",
              "  </script>\n",
              "</div>\n",
              "    </div>\n",
              "  </div>\n"
            ]
          },
          "metadata": {},
          "execution_count": 40
        }
      ]
    },
    {
      "cell_type": "code",
      "source": [
        "ax = sns.lmplot(x=\"exposicao_sol\", y=\"durabilidade\", data=dados)\n",
        "ax.fig.set_size_inches(12, 6)\n",
        "ax.fig.suptitle('Reta de Regressão - Durabilidade X Exposição ao Sol', fontsize=16, y=1.02)\n",
        "ax.set_xlabels(\"Exposição ao Sol\", fontsize=14)\n",
        "ax.set_ylabels(\"Durabilidade\", fontsize=14)\n",
        "ax"
      ],
      "metadata": {
        "colab": {
          "base_uri": "https://localhost:8080/",
          "height": 644
        },
        "id": "bw_DYECtyLwW",
        "outputId": "2e922621-3c96-4fc5-86b0-883aa38e6653"
      },
      "execution_count": null,
      "outputs": [
        {
          "output_type": "execute_result",
          "data": {
            "text/plain": [
              "<seaborn.axisgrid.FacetGrid at 0x7fd5ff3f4580>"
            ]
          },
          "metadata": {},
          "execution_count": 41
        },
        {
          "output_type": "display_data",
          "data": {
            "text/plain": [
              "<Figure size 1200x600 with 1 Axes>"
            ],
            "image/png": "[encoded data removed]"
          },
          "metadata": {}
        }
      ]
    },
    {
      "cell_type": "markdown",
      "source": [
        "###2 - Essa diferença persiste ou nao quando a voluntária se expoe ao sol? E com relacao a idade?###"
      ],
      "metadata": {
        "id": "VLXekvBSwgFh"
      }
    },
    {
      "cell_type": "code",
      "source": [
        "dados_idade = dados[['durabilidade', 'idade']]\n",
        "dados_idade"
      ],
      "metadata": {
        "id": "6kxxmtXZlewj",
        "colab": {
          "base_uri": "https://localhost:8080/",
          "height": 424
        },
        "outputId": "f7149ea3-62bc-4b37-dbed-7755fc33ee8e"
      },
      "execution_count": null,
      "outputs": [
        {
          "output_type": "execute_result",
          "data": {
            "text/plain": [
              "     durabilidade  idade\n",
              "0              12     40\n",
              "1               5     36\n",
              "2              19     47\n",
              "3              14     36\n",
              "4              17     46\n",
              "..            ...    ...\n",
              "295            18     52\n",
              "296            30     19\n",
              "297            43     23\n",
              "298            41     19\n",
              "299            25     21\n",
              "\n",
              "[300 rows x 2 columns]"
            ],
            "text/html": [
              "\n",
              "  <div id=\"df-2b034dc9-2ea7-4490-b8e7-4403099778f6\" class=\"colab-df-container\">\n",
              "    <div>\n",
              "<style scoped>\n",
              "    .dataframe tbody tr th:only-of-type {\n",
              "        vertical-align: middle;\n",
              "    }\n",
              "\n",
              "    .dataframe tbody tr th {\n",
              "        vertical-align: top;\n",
              "    }\n",
              "\n",
              "    .dataframe thead th {\n",
              "        text-align: right;\n",
              "    }\n",
              "</style>\n",
              "<table border=\"1\" class=\"dataframe\">\n",
              "  <thead>\n",
              "    <tr style=\"text-align: right;\">\n",
              "      <th></th>\n",
              "      <th>durabilidade</th>\n",
              "      <th>idade</th>\n",
              "    </tr>\n",
              "  </thead>\n",
              "  <tbody>\n",
              "    <tr>\n",
              "      <th>0</th>\n",
              "      <td>12</td>\n",
              "      <td>40</td>\n",
              "    </tr>\n",
              "    <tr>\n",
              "      <th>1</th>\n",
              "      <td>5</td>\n",
              "      <td>36</td>\n",
              "    </tr>\n",
              "    <tr>\n",
              "      <th>2</th>\n",
              "      <td>19</td>\n",
              "      <td>47</td>\n",
              "    </tr>\n",
              "    <tr>\n",
              "      <th>3</th>\n",
              "      <td>14</td>\n",
              "      <td>36</td>\n",
              "    </tr>\n",
              "    <tr>\n",
              "      <th>4</th>\n",
              "      <td>17</td>\n",
              "      <td>46</td>\n",
              "    </tr>\n",
              "    <tr>\n",
              "      <th>...</th>\n",
              "      <td>...</td>\n",
              "      <td>...</td>\n",
              "    </tr>\n",
              "    <tr>\n",
              "      <th>295</th>\n",
              "      <td>18</td>\n",
              "      <td>52</td>\n",
              "    </tr>\n",
              "    <tr>\n",
              "      <th>296</th>\n",
              "      <td>30</td>\n",
              "      <td>19</td>\n",
              "    </tr>\n",
              "    <tr>\n",
              "      <th>297</th>\n",
              "      <td>43</td>\n",
              "      <td>23</td>\n",
              "    </tr>\n",
              "    <tr>\n",
              "      <th>298</th>\n",
              "      <td>41</td>\n",
              "      <td>19</td>\n",
              "    </tr>\n",
              "    <tr>\n",
              "      <th>299</th>\n",
              "      <td>25</td>\n",
              "      <td>21</td>\n",
              "    </tr>\n",
              "  </tbody>\n",
              "</table>\n",
              "<p>300 rows × 2 columns</p>\n",
              "</div>\n",
              "    <div class=\"colab-df-buttons\">\n",
              "\n",
              "  <div class=\"colab-df-container\">\n",
              "    <button class=\"colab-df-convert\" onclick=\"convertToInteractive('df-2b034dc9-2ea7-4490-b8e7-4403099778f6')\"\n",
              "            title=\"Convert this dataframe to an interactive table.\"\n",
              "            style=\"display:none;\">\n",
              "\n",
              "  <svg xmlns=\"http://www.w3.org/2000/svg\" height=\"24px\" viewBox=\"0 -960 960 960\">\n",
              "    <path d=\"M120-120v-720h720v720H120Zm60-500h600v-160H180v160Zm220 220h160v-160H400v160Zm0 220h160v-160H400v160ZM180-400h160v-160H180v160Zm440 0h160v-160H620v160ZM180-180h160v-160H180v160Zm440 0h160v-160H620v160Z\"/>\n",
              "  </svg>\n",
              "    </button>\n",
              "\n",
              "  <style>\n",
              "    .colab-df-container {\n",
              "      display:flex;\n",
              "      gap: 12px;\n",
              "    }\n",
              "\n",
              "    .colab-df-convert {\n",
              "      background-color: #E8F0FE;\n",
              "      border: none;\n",
              "      border-radius: 50%;\n",
              "      cursor: pointer;\n",
              "      display: none;\n",
              "      fill: #1967D2;\n",
              "      height: 32px;\n",
              "      padding: 0 0 0 0;\n",
              "      width: 32px;\n",
              "    }\n",
              "\n",
              "    .colab-df-convert:hover {\n",
              "      background-color: #E2EBFA;\n",
              "      box-shadow: 0px 1px 2px rgba(60, 64, 67, 0.3), 0px 1px 3px 1px rgba(60, 64, 67, 0.15);\n",
              "      fill: #174EA6;\n",
              "    }\n",
              "\n",
              "    .colab-df-buttons div {\n",
              "      margin-bottom: 4px;\n",
              "    }\n",
              "\n",
              "    [theme=dark] .colab-df-convert {\n",
              "      background-color: #3B4455;\n",
              "      fill: #D2E3FC;\n",
              "    }\n",
              "\n",
              "    [theme=dark] .colab-df-convert:hover {\n",
              "      background-color: #434B5C;\n",
              "      box-shadow: 0px 1px 3px 1px rgba(0, 0, 0, 0.15);\n",
              "      filter: drop-shadow(0px 1px 2px rgba(0, 0, 0, 0.3));\n",
              "      fill: #FFFFFF;\n",
              "    }\n",
              "  </style>\n",
              "\n",
              "    <script>\n",
              "      const buttonEl =\n",
              "        document.querySelector('#df-2b034dc9-2ea7-4490-b8e7-4403099778f6 button.colab-df-convert');\n",
              "      buttonEl.style.display =\n",
              "        google.colab.kernel.accessAllowed ? 'block' : 'none';\n",
              "\n",
              "      async function convertToInteractive(key) {\n",
              "        const element = document.querySelector('#df-2b034dc9-2ea7-4490-b8e7-4403099778f6');\n",
              "        const dataTable =\n",
              "          await google.colab.kernel.invokeFunction('convertToInteractive',\n",
              "                                                    [key], {});\n",
              "        if (!dataTable) return;\n",
              "\n",
              "        const docLinkHtml = 'Like what you see? Visit the ' +\n",
              "          '<a target=\"_blank\" href=https://colab.research.google.com/notebooks/data_table.ipynb>data table notebook</a>'\n",
              "          + ' to learn more about interactive tables.';\n",
              "        element.innerHTML = '';\n",
              "        dataTable['output_type'] = 'display_data';\n",
              "        await google.colab.output.renderOutput(dataTable, element);\n",
              "        const docLink = document.createElement('div');\n",
              "        docLink.innerHTML = docLinkHtml;\n",
              "        element.appendChild(docLink);\n",
              "      }\n",
              "    </script>\n",
              "  </div>\n",
              "\n",
              "\n",
              "<div id=\"df-d45a65cd-c3ac-4f6f-a6cf-a88929700b93\">\n",
              "  <button class=\"colab-df-quickchart\" onclick=\"quickchart('df-d45a65cd-c3ac-4f6f-a6cf-a88929700b93')\"\n",
              "            title=\"Suggest charts.\"\n",
              "            style=\"display:none;\">\n",
              "\n",
              "<svg xmlns=\"http://www.w3.org/2000/svg\" height=\"24px\"viewBox=\"0 0 24 24\"\n",
              "     width=\"24px\">\n",
              "    <g>\n",
              "        <path d=\"M19 3H5c-1.1 0-2 .9-2 2v14c0 1.1.9 2 2 2h14c1.1 0 2-.9 2-2V5c0-1.1-.9-2-2-2zM9 17H7v-7h2v7zm4 0h-2V7h2v10zm4 0h-2v-4h2v4z\"/>\n",
              "    </g>\n",
              "</svg>\n",
              "  </button>\n",
              "\n",
              "<style>\n",
              "  .colab-df-quickchart {\n",
              "      --bg-color: #E8F0FE;\n",
              "      --fill-color: #1967D2;\n",
              "      --hover-bg-color: #E2EBFA;\n",
              "      --hover-fill-color: #174EA6;\n",
              "      --disabled-fill-color: #AAA;\n",
              "      --disabled-bg-color: #DDD;\n",
              "  }\n",
              "\n",
              "  [theme=dark] .colab-df-quickchart {\n",
              "      --bg-color: #3B4455;\n",
              "      --fill-color: #D2E3FC;\n",
              "      --hover-bg-color: #434B5C;\n",
              "      --hover-fill-color: #FFFFFF;\n",
              "      --disabled-bg-color: #3B4455;\n",
              "      --disabled-fill-color: #666;\n",
              "  }\n",
              "\n",
              "  .colab-df-quickchart {\n",
              "    background-color: var(--bg-color);\n",
              "    border: none;\n",
              "    border-radius: 50%;\n",
              "    cursor: pointer;\n",
              "    display: none;\n",
              "    fill: var(--fill-color);\n",
              "    height: 32px;\n",
              "    padding: 0;\n",
              "    width: 32px;\n",
              "  }\n",
              "\n",
              "  .colab-df-quickchart:hover {\n",
              "    background-color: var(--hover-bg-color);\n",
              "    box-shadow: 0 1px 2px rgba(60, 64, 67, 0.3), 0 1px 3px 1px rgba(60, 64, 67, 0.15);\n",
              "    fill: var(--button-hover-fill-color);\n",
              "  }\n",
              "\n",
              "  .colab-df-quickchart-complete:disabled,\n",
              "  .colab-df-quickchart-complete:disabled:hover {\n",
              "    background-color: var(--disabled-bg-color);\n",
              "    fill: var(--disabled-fill-color);\n",
              "    box-shadow: none;\n",
              "  }\n",
              "\n",
              "  .colab-df-spinner {\n",
              "    border: 2px solid var(--fill-color);\n",
              "    border-color: transparent;\n",
              "    border-bottom-color: var(--fill-color);\n",
              "    animation:\n",
              "      spin 1s steps(1) infinite;\n",
              "  }\n",
              "\n",
              "  @keyframes spin {\n",
              "    0% {\n",
              "      border-color: transparent;\n",
              "      border-bottom-color: var(--fill-color);\n",
              "      border-left-color: var(--fill-color);\n",
              "    }\n",
              "    20% {\n",
              "      border-color: transparent;\n",
              "      border-left-color: var(--fill-color);\n",
              "      border-top-color: var(--fill-color);\n",
              "    }\n",
              "    30% {\n",
              "      border-color: transparent;\n",
              "      border-left-color: var(--fill-color);\n",
              "      border-top-color: var(--fill-color);\n",
              "      border-right-color: var(--fill-color);\n",
              "    }\n",
              "    40% {\n",
              "      border-color: transparent;\n",
              "      border-right-color: var(--fill-color);\n",
              "      border-top-color: var(--fill-color);\n",
              "    }\n",
              "    60% {\n",
              "      border-color: transparent;\n",
              "      border-right-color: var(--fill-color);\n",
              "    }\n",
              "    80% {\n",
              "      border-color: transparent;\n",
              "      border-right-color: var(--fill-color);\n",
              "      border-bottom-color: var(--fill-color);\n",
              "    }\n",
              "    90% {\n",
              "      border-color: transparent;\n",
              "      border-bottom-color: var(--fill-color);\n",
              "    }\n",
              "  }\n",
              "</style>\n",
              "\n",
              "  <script>\n",
              "    async function quickchart(key) {\n",
              "      const quickchartButtonEl =\n",
              "        document.querySelector('#' + key + ' button');\n",
              "      quickchartButtonEl.disabled = true;  // To prevent multiple clicks.\n",
              "      quickchartButtonEl.classList.add('colab-df-spinner');\n",
              "      try {\n",
              "        const charts = await google.colab.kernel.invokeFunction(\n",
              "            'suggestCharts', [key], {});\n",
              "      } catch (error) {\n",
              "        console.error('Error during call to suggestCharts:', error);\n",
              "      }\n",
              "      quickchartButtonEl.classList.remove('colab-df-spinner');\n",
              "      quickchartButtonEl.classList.add('colab-df-quickchart-complete');\n",
              "    }\n",
              "    (() => {\n",
              "      let quickchartButtonEl =\n",
              "        document.querySelector('#df-d45a65cd-c3ac-4f6f-a6cf-a88929700b93 button');\n",
              "      quickchartButtonEl.style.display =\n",
              "        google.colab.kernel.accessAllowed ? 'block' : 'none';\n",
              "    })();\n",
              "  </script>\n",
              "</div>\n",
              "    </div>\n",
              "  </div>\n"
            ]
          },
          "metadata": {},
          "execution_count": 42
        }
      ]
    },
    {
      "cell_type": "code",
      "source": [
        "sns.lmplot(x ='idade', y ='durabilidade', data = dados_idade,)\n"
      ],
      "metadata": {
        "colab": {
          "base_uri": "https://localhost:8080/",
          "height": 523
        },
        "id": "FVX81kc-0QmH",
        "outputId": "d3af2e03-3853-4d89-a39f-da4b7e45539d"
      },
      "execution_count": null,
      "outputs": [
        {
          "output_type": "execute_result",
          "data": {
            "text/plain": [
              "<seaborn.axisgrid.FacetGrid at 0x7fd5ff2a9d20>"
            ]
          },
          "metadata": {},
          "execution_count": 43
        },
        {
          "output_type": "display_data",
          "data": {
            "text/plain": [
              "<Figure size 500x500 with 1 Axes>"
            ],
            "image/png": "[encoded data removed]"
          },
          "metadata": {}
        }
      ]
    },
    {
      "cell_type": "code",
      "source": [
        "resumo_durabilidade = dados.groupby(['id_produto', 'idade'])['durabilidade'].sum().reset_index()\n",
        "resumo_durabilidade\n",
        "resumo_durabilidade.query('id_produto == 1').mean()"
      ],
      "metadata": {
        "colab": {
          "base_uri": "https://localhost:8080/"
        },
        "id": "L6OFE6DO1S3H",
        "outputId": "fa3e23ff-fe26-4fe0-f5d1-8862188af8e4"
      },
      "execution_count": null,
      "outputs": [
        {
          "output_type": "execute_result",
          "data": {
            "text/plain": [
              "id_produto       1.000000\n",
              "idade           39.552632\n",
              "durabilidade    39.763158\n",
              "dtype: float64"
            ]
          },
          "metadata": {},
          "execution_count": 44
        }
      ]
    },
    {
      "cell_type": "code",
      "source": [
        "resumo_durabilidade = dados.groupby(['id_produto', 'idade'])['durabilidade'].sum().reset_index()\n",
        "resumo_durabilidade\n",
        "resumo_durabilidade.query('id_produto == 2 ').mean()"
      ],
      "metadata": {
        "colab": {
          "base_uri": "https://localhost:8080/"
        },
        "id": "3TN9o85wNCL9",
        "outputId": "0a8e1d9b-fa5a-42c6-ab97-91451cb55ee0"
      },
      "execution_count": null,
      "outputs": [
        {
          "output_type": "execute_result",
          "data": {
            "text/plain": [
              "id_produto       2.000000\n",
              "idade           38.000000\n",
              "durabilidade    21.583333\n",
              "dtype: float64"
            ]
          },
          "metadata": {},
          "execution_count": 45
        }
      ]
    },
    {
      "cell_type": "code",
      "source": [
        "resumo_durabilidade = dados.groupby(['id_produto', 'idade'])['durabilidade'].sum().reset_index()\n",
        "resumo_durabilidade\n",
        "resumo_durabilidade.query('id_produto == 3').mean()"
      ],
      "metadata": {
        "colab": {
          "base_uri": "https://localhost:8080/"
        },
        "id": "o9Al7RsvNCW9",
        "outputId": "91722fb7-c456-4422-fae3-687122e709cc"
      },
      "execution_count": null,
      "outputs": [
        {
          "output_type": "execute_result",
          "data": {
            "text/plain": [
              "id_produto       3.000000\n",
              "idade           38.382353\n",
              "durabilidade    83.882353\n",
              "dtype: float64"
            ]
          },
          "metadata": {},
          "execution_count": 46
        }
      ]
    },
    {
      "cell_type": "code",
      "source": [
        "dados['exposicao_grupo'] = dados['exposicao_sol'].apply(lambda x: 'Sem Exposição' if x == 0 else 'Com Exposição')"
      ],
      "metadata": {
        "id": "dhFWntuhPm8m"
      },
      "execution_count": null,
      "outputs": []
    },
    {
      "cell_type": "code",
      "source": [
        "faixa_etaria = [(0, 18), (19, 35), (36, 50), (51, 100)]\n",
        "labels_faixa_etaria = ['0-18', '19-35', '36-50', '51+']\n",
        "dados['faixa_etaria'] = pd.cut(dados['idade'], bins=[e[0] for e in faixa_etaria] + [float('inf')], labels=labels_faixa_etaria)\n",
        "dados\n"
      ],
      "metadata": {
        "id": "MjX8F450PuVZ",
        "colab": {
          "base_uri": "https://localhost:8080/",
          "height": 424
        },
        "outputId": "a1b026f0-8f65-4a98-9ab3-f436d60a4cdf"
      },
      "execution_count": null,
      "outputs": [
        {
          "output_type": "execute_result",
          "data": {
            "text/plain": [
              "     id_produto  id_voluntária  durabilidade  idade  exposicao_sol  \\\n",
              "0             1              1            12     40              1   \n",
              "1             2              2             5     36              0   \n",
              "2             1              3            19     47              0   \n",
              "3             1              4            14     36              1   \n",
              "4             1              5            17     46              1   \n",
              "..          ...            ...           ...    ...            ...   \n",
              "295           3            296            18     52              0   \n",
              "296           3            297            30     19              0   \n",
              "297           3            298            43     23              1   \n",
              "298           3            299            41     19              0   \n",
              "299           3            300            25     21              0   \n",
              "\n",
              "    exposicao_grupo faixa_etaria  \n",
              "0     Com Exposição        36-50  \n",
              "1     Sem Exposição        19-35  \n",
              "2     Sem Exposição        36-50  \n",
              "3     Com Exposição        19-35  \n",
              "4     Com Exposição        36-50  \n",
              "..              ...          ...  \n",
              "295   Sem Exposição          51+  \n",
              "296   Sem Exposição         0-18  \n",
              "297   Com Exposição        19-35  \n",
              "298   Sem Exposição         0-18  \n",
              "299   Sem Exposição        19-35  \n",
              "\n",
              "[300 rows x 7 columns]"
            ],
            "text/html": [
              "\n",
              "  <div id=\"df-957cc60b-a6af-41c5-b437-918649dd46ab\" class=\"colab-df-container\">\n",
              "    <div>\n",
              "<style scoped>\n",
              "    .dataframe tbody tr th:only-of-type {\n",
              "        vertical-align: middle;\n",
              "    }\n",
              "\n",
              "    .dataframe tbody tr th {\n",
              "        vertical-align: top;\n",
              "    }\n",
              "\n",
              "    .dataframe thead th {\n",
              "        text-align: right;\n",
              "    }\n",
              "</style>\n",
              "<table border=\"1\" class=\"dataframe\">\n",
              "  <thead>\n",
              "    <tr style=\"text-align: right;\">\n",
              "      <th></th>\n",
              "      <th>id_produto</th>\n",
              "      <th>id_voluntária</th>\n",
              "      <th>durabilidade</th>\n",
              "      <th>idade</th>\n",
              "      <th>exposicao_sol</th>\n",
              "      <th>exposicao_grupo</th>\n",
              "      <th>faixa_etaria</th>\n",
              "    </tr>\n",
              "  </thead>\n",
              "  <tbody>\n",
              "    <tr>\n",
              "      <th>0</th>\n",
              "      <td>1</td>\n",
              "      <td>1</td>\n",
              "      <td>12</td>\n",
              "      <td>40</td>\n",
              "      <td>1</td>\n",
              "      <td>Com Exposição</td>\n",
              "      <td>36-50</td>\n",
              "    </tr>\n",
              "    <tr>\n",
              "      <th>1</th>\n",
              "      <td>2</td>\n",
              "      <td>2</td>\n",
              "      <td>5</td>\n",
              "      <td>36</td>\n",
              "      <td>0</td>\n",
              "      <td>Sem Exposição</td>\n",
              "      <td>19-35</td>\n",
              "    </tr>\n",
              "    <tr>\n",
              "      <th>2</th>\n",
              "      <td>1</td>\n",
              "      <td>3</td>\n",
              "      <td>19</td>\n",
              "      <td>47</td>\n",
              "      <td>0</td>\n",
              "      <td>Sem Exposição</td>\n",
              "      <td>36-50</td>\n",
              "    </tr>\n",
              "    <tr>\n",
              "      <th>3</th>\n",
              "      <td>1</td>\n",
              "      <td>4</td>\n",
              "      <td>14</td>\n",
              "      <td>36</td>\n",
              "      <td>1</td>\n",
              "      <td>Com Exposição</td>\n",
              "      <td>19-35</td>\n",
              "    </tr>\n",
              "    <tr>\n",
              "      <th>4</th>\n",
              "      <td>1</td>\n",
              "      <td>5</td>\n",
              "      <td>17</td>\n",
              "      <td>46</td>\n",
              "      <td>1</td>\n",
              "      <td>Com Exposição</td>\n",
              "      <td>36-50</td>\n",
              "    </tr>\n",
              "    <tr>\n",
              "      <th>...</th>\n",
              "      <td>...</td>\n",
              "      <td>...</td>\n",
              "      <td>...</td>\n",
              "      <td>...</td>\n",
              "      <td>...</td>\n",
              "      <td>...</td>\n",
              "      <td>...</td>\n",
              "    </tr>\n",
              "    <tr>\n",
              "      <th>295</th>\n",
              "      <td>3</td>\n",
              "      <td>296</td>\n",
              "      <td>18</td>\n",
              "      <td>52</td>\n",
              "      <td>0</td>\n",
              "      <td>Sem Exposição</td>\n",
              "      <td>51+</td>\n",
              "    </tr>\n",
              "    <tr>\n",
              "      <th>296</th>\n",
              "      <td>3</td>\n",
              "      <td>297</td>\n",
              "      <td>30</td>\n",
              "      <td>19</td>\n",
              "      <td>0</td>\n",
              "      <td>Sem Exposição</td>\n",
              "      <td>0-18</td>\n",
              "    </tr>\n",
              "    <tr>\n",
              "      <th>297</th>\n",
              "      <td>3</td>\n",
              "      <td>298</td>\n",
              "      <td>43</td>\n",
              "      <td>23</td>\n",
              "      <td>1</td>\n",
              "      <td>Com Exposição</td>\n",
              "      <td>19-35</td>\n",
              "    </tr>\n",
              "    <tr>\n",
              "      <th>298</th>\n",
              "      <td>3</td>\n",
              "      <td>299</td>\n",
              "      <td>41</td>\n",
              "      <td>19</td>\n",
              "      <td>0</td>\n",
              "      <td>Sem Exposição</td>\n",
              "      <td>0-18</td>\n",
              "    </tr>\n",
              "    <tr>\n",
              "      <th>299</th>\n",
              "      <td>3</td>\n",
              "      <td>300</td>\n",
              "      <td>25</td>\n",
              "      <td>21</td>\n",
              "      <td>0</td>\n",
              "      <td>Sem Exposição</td>\n",
              "      <td>19-35</td>\n",
              "    </tr>\n",
              "  </tbody>\n",
              "</table>\n",
              "<p>300 rows × 7 columns</p>\n",
              "</div>\n",
              "    <div class=\"colab-df-buttons\">\n",
              "\n",
              "  <div class=\"colab-df-container\">\n",
              "    <button class=\"colab-df-convert\" onclick=\"convertToInteractive('df-957cc60b-a6af-41c5-b437-918649dd46ab')\"\n",
              "            title=\"Convert this dataframe to an interactive table.\"\n",
              "            style=\"display:none;\">\n",
              "\n",
              "  <svg xmlns=\"http://www.w3.org/2000/svg\" height=\"24px\" viewBox=\"0 -960 960 960\">\n",
              "    <path d=\"M120-120v-720h720v720H120Zm60-500h600v-160H180v160Zm220 220h160v-160H400v160Zm0 220h160v-160H400v160ZM180-400h160v-160H180v160Zm440 0h160v-160H620v160ZM180-180h160v-160H180v160Zm440 0h160v-160H620v160Z\"/>\n",
              "  </svg>\n",
              "    </button>\n",
              "\n",
              "  <style>\n",
              "    .colab-df-container {\n",
              "      display:flex;\n",
              "      gap: 12px;\n",
              "    }\n",
              "\n",
              "    .colab-df-convert {\n",
              "      background-color: #E8F0FE;\n",
              "      border: none;\n",
              "      border-radius: 50%;\n",
              "      cursor: pointer;\n",
              "      display: none;\n",
              "      fill: #1967D2;\n",
              "      height: 32px;\n",
              "      padding: 0 0 0 0;\n",
              "      width: 32px;\n",
              "    }\n",
              "\n",
              "    .colab-df-convert:hover {\n",
              "      background-color: #E2EBFA;\n",
              "      box-shadow: 0px 1px 2px rgba(60, 64, 67, 0.3), 0px 1px 3px 1px rgba(60, 64, 67, 0.15);\n",
              "      fill: #174EA6;\n",
              "    }\n",
              "\n",
              "    .colab-df-buttons div {\n",
              "      margin-bottom: 4px;\n",
              "    }\n",
              "\n",
              "    [theme=dark] .colab-df-convert {\n",
              "      background-color: #3B4455;\n",
              "      fill: #D2E3FC;\n",
              "    }\n",
              "\n",
              "    [theme=dark] .colab-df-convert:hover {\n",
              "      background-color: #434B5C;\n",
              "      box-shadow: 0px 1px 3px 1px rgba(0, 0, 0, 0.15);\n",
              "      filter: drop-shadow(0px 1px 2px rgba(0, 0, 0, 0.3));\n",
              "      fill: #FFFFFF;\n",
              "    }\n",
              "  </style>\n",
              "\n",
              "    <script>\n",
              "      const buttonEl =\n",
              "        document.querySelector('#df-957cc60b-a6af-41c5-b437-918649dd46ab button.colab-df-convert');\n",
              "      buttonEl.style.display =\n",
              "        google.colab.kernel.accessAllowed ? 'block' : 'none';\n",
              "\n",
              "      async function convertToInteractive(key) {\n",
              "        const element = document.querySelector('#df-957cc60b-a6af-41c5-b437-918649dd46ab');\n",
              "        const dataTable =\n",
              "          await google.colab.kernel.invokeFunction('convertToInteractive',\n",
              "                                                    [key], {});\n",
              "        if (!dataTable) return;\n",
              "\n",
              "        const docLinkHtml = 'Like what you see? Visit the ' +\n",
              "          '<a target=\"_blank\" href=https://colab.research.google.com/notebooks/data_table.ipynb>data table notebook</a>'\n",
              "          + ' to learn more about interactive tables.';\n",
              "        element.innerHTML = '';\n",
              "        dataTable['output_type'] = 'display_data';\n",
              "        await google.colab.output.renderOutput(dataTable, element);\n",
              "        const docLink = document.createElement('div');\n",
              "        docLink.innerHTML = docLinkHtml;\n",
              "        element.appendChild(docLink);\n",
              "      }\n",
              "    </script>\n",
              "  </div>\n",
              "\n",
              "\n",
              "<div id=\"df-ce59356a-7e51-467b-9388-a9a978899c2e\">\n",
              "  <button class=\"colab-df-quickchart\" onclick=\"quickchart('df-ce59356a-7e51-467b-9388-a9a978899c2e')\"\n",
              "            title=\"Suggest charts.\"\n",
              "            style=\"display:none;\">\n",
              "\n",
              "<svg xmlns=\"http://www.w3.org/2000/svg\" height=\"24px\"viewBox=\"0 0 24 24\"\n",
              "     width=\"24px\">\n",
              "    <g>\n",
              "        <path d=\"M19 3H5c-1.1 0-2 .9-2 2v14c0 1.1.9 2 2 2h14c1.1 0 2-.9 2-2V5c0-1.1-.9-2-2-2zM9 17H7v-7h2v7zm4 0h-2V7h2v10zm4 0h-2v-4h2v4z\"/>\n",
              "    </g>\n",
              "</svg>\n",
              "  </button>\n",
              "\n",
              "<style>\n",
              "  .colab-df-quickchart {\n",
              "      --bg-color: #E8F0FE;\n",
              "      --fill-color: #1967D2;\n",
              "      --hover-bg-color: #E2EBFA;\n",
              "      --hover-fill-color: #174EA6;\n",
              "      --disabled-fill-color: #AAA;\n",
              "      --disabled-bg-color: #DDD;\n",
              "  }\n",
              "\n",
              "  [theme=dark] .colab-df-quickchart {\n",
              "      --bg-color: #3B4455;\n",
              "      --fill-color: #D2E3FC;\n",
              "      --hover-bg-color: #434B5C;\n",
              "      --hover-fill-color: #FFFFFF;\n",
              "      --disabled-bg-color: #3B4455;\n",
              "      --disabled-fill-color: #666;\n",
              "  }\n",
              "\n",
              "  .colab-df-quickchart {\n",
              "    background-color: var(--bg-color);\n",
              "    border: none;\n",
              "    border-radius: 50%;\n",
              "    cursor: pointer;\n",
              "    display: none;\n",
              "    fill: var(--fill-color);\n",
              "    height: 32px;\n",
              "    padding: 0;\n",
              "    width: 32px;\n",
              "  }\n",
              "\n",
              "  .colab-df-quickchart:hover {\n",
              "    background-color: var(--hover-bg-color);\n",
              "    box-shadow: 0 1px 2px rgba(60, 64, 67, 0.3), 0 1px 3px 1px rgba(60, 64, 67, 0.15);\n",
              "    fill: var(--button-hover-fill-color);\n",
              "  }\n",
              "\n",
              "  .colab-df-quickchart-complete:disabled,\n",
              "  .colab-df-quickchart-complete:disabled:hover {\n",
              "    background-color: var(--disabled-bg-color);\n",
              "    fill: var(--disabled-fill-color);\n",
              "    box-shadow: none;\n",
              "  }\n",
              "\n",
              "  .colab-df-spinner {\n",
              "    border: 2px solid var(--fill-color);\n",
              "    border-color: transparent;\n",
              "    border-bottom-color: var(--fill-color);\n",
              "    animation:\n",
              "      spin 1s steps(1) infinite;\n",
              "  }\n",
              "\n",
              "  @keyframes spin {\n",
              "    0% {\n",
              "      border-color: transparent;\n",
              "      border-bottom-color: var(--fill-color);\n",
              "      border-left-color: var(--fill-color);\n",
              "    }\n",
              "    20% {\n",
              "      border-color: transparent;\n",
              "      border-left-color: var(--fill-color);\n",
              "      border-top-color: var(--fill-color);\n",
              "    }\n",
              "    30% {\n",
              "      border-color: transparent;\n",
              "      border-left-color: var(--fill-color);\n",
              "      border-top-color: var(--fill-color);\n",
              "      border-right-color: var(--fill-color);\n",
              "    }\n",
              "    40% {\n",
              "      border-color: transparent;\n",
              "      border-right-color: var(--fill-color);\n",
              "      border-top-color: var(--fill-color);\n",
              "    }\n",
              "    60% {\n",
              "      border-color: transparent;\n",
              "      border-right-color: var(--fill-color);\n",
              "    }\n",
              "    80% {\n",
              "      border-color: transparent;\n",
              "      border-right-color: var(--fill-color);\n",
              "      border-bottom-color: var(--fill-color);\n",
              "    }\n",
              "    90% {\n",
              "      border-color: transparent;\n",
              "      border-bottom-color: var(--fill-color);\n",
              "    }\n",
              "  }\n",
              "</style>\n",
              "\n",
              "  <script>\n",
              "    async function quickchart(key) {\n",
              "      const quickchartButtonEl =\n",
              "        document.querySelector('#' + key + ' button');\n",
              "      quickchartButtonEl.disabled = true;  // To prevent multiple clicks.\n",
              "      quickchartButtonEl.classList.add('colab-df-spinner');\n",
              "      try {\n",
              "        const charts = await google.colab.kernel.invokeFunction(\n",
              "            'suggestCharts', [key], {});\n",
              "      } catch (error) {\n",
              "        console.error('Error during call to suggestCharts:', error);\n",
              "      }\n",
              "      quickchartButtonEl.classList.remove('colab-df-spinner');\n",
              "      quickchartButtonEl.classList.add('colab-df-quickchart-complete');\n",
              "    }\n",
              "    (() => {\n",
              "      let quickchartButtonEl =\n",
              "        document.querySelector('#df-ce59356a-7e51-467b-9388-a9a978899c2e button');\n",
              "      quickchartButtonEl.style.display =\n",
              "        google.colab.kernel.accessAllowed ? 'block' : 'none';\n",
              "    })();\n",
              "  </script>\n",
              "</div>\n",
              "    </div>\n",
              "  </div>\n"
            ]
          },
          "metadata": {},
          "execution_count": 48
        }
      ]
    },
    {
      "cell_type": "code",
      "source": [
        "resumo_durabilidade = dados.groupby(['exposicao_grupo', 'faixa_etaria'])['durabilidade'].mean().reset_index()\n",
        "resumo_com_exposicao = resumo_durabilidade[resumo_durabilidade['exposicao_grupo'] == 'Com Exposição']\n",
        "resumo_sem_exposicao = resumo_durabilidade[resumo_durabilidade['exposicao_grupo'] == 'Sem Exposição']\n",
        "\n"
      ],
      "metadata": {
        "id": "j6MtMNTYP8Te"
      },
      "execution_count": null,
      "outputs": []
    },
    {
      "cell_type": "code",
      "source": [
        "#aplicando o teste t\n",
        "estatistica_t, p_valor, graus_de_liberdade = test_t.ttest_ind(resumo_com_exposicao['durabilidade'],resumo_sem_exposicao['durabilidade'])\n",
        "if p_valor <= significancia:\n",
        "  print('Rejeita-se a hipótese nula, consta-se que as informações apresentam diferenças significativas.')\n",
        "else:\n",
        "  print('Não temos evidências suficientes para rejeitar a hipótese nula de que não há diferença significativa entre as médias dos grupos \"Com Exposição\" e \"Sem Exposição\" de acordo com a idade, portanto a diferença observada não é estatisticamente significativa.')"
      ],
      "metadata": {
        "colab": {
          "base_uri": "https://localhost:8080/"
        },
        "id": "JgwnNFPaSRHd",
        "outputId": "7d02386a-839e-445f-f133-585fb643cc0c"
      },
      "execution_count": null,
      "outputs": [
        {
          "output_type": "stream",
          "name": "stdout",
          "text": [
            "Não temos evidências suficientes para rejeitar a hipótese nula de que não há diferença significativa entre as médias dos grupos \"Com Exposição\" e \"Sem Exposição\" de acordo com a idade, portanto a diferença observada não é estatisticamente significativa.\n"
          ]
        }
      ]
    },
    {
      "cell_type": "markdown",
      "source": [
        "##3- Qual fórmula de batom voce indicaria para consumidores que buscam maior durabilidade e exposicao ao sol?\n",
        "\n",
        "A fórmula 3, foi a que apresentou melhor desempenho quanto a durabilidade diante da exposição ao sol"
      ],
      "metadata": {
        "id": "EcQglsfZ08XT"
      }
    },
    {
      "cell_type": "markdown",
      "source": [
        "#Desafio 2 :\n",
        "##Imagine que voce trabalha em uma empresa do setor alimentício, e o preço de determinado produto, um novo picolé, tem uma distribuição normal com média igual a 07,85 e desvio padrão igual a 3,32.\n",
        "##Suspeita-se que devido ao verão, em determinadas localidades de praia o preco do picolé esteja mais caro. Para verificar se esse efeito é estatisticamente significativo, contactaram voce, analista de dados.\n",
        "##Suponha que para realizar essa análise voce tenha dados de 45 lojas em cidades do litoral, escolhidas aleatoriamente. E constatou que o preço médio do picolé nessas cidades é de R$11,52.\n",
        "###1. Voce pode concluir que existe diferenca de precos estatisticamente relevante com 5% de significancia?\n",
        "###2. Qual o valor da variável teste, o intervalo de confianca e o p-valor?"
      ],
      "metadata": {
        "id": "2WFB5AgIZNyG"
      }
    },
    {
      "cell_type": "code",
      "source": [
        "media_picole = 7.85\n",
        "desvio_padrao = 3.32\n",
        "n = 45\n",
        "media_amostra = 11.52\n",
        "significancia_picole = 0.05\n",
        "confianca = 1 - significancia_picole"
      ],
      "metadata": {
        "id": "kqOfDyFAaUjV"
      },
      "execution_count": null,
      "outputs": []
    },
    {
      "cell_type": "code",
      "source": [
        "from scipy.stats import norm"
      ],
      "metadata": {
        "id": "s3XH6dOAZl_2"
      },
      "execution_count": null,
      "outputs": []
    },
    {
      "cell_type": "code",
      "source": [
        "probabilidade = (0.5 + (confianca/2))\n",
        "probabilidade"
      ],
      "metadata": {
        "id": "4Mt0QMRZbKbr",
        "outputId": "e4344bf7-75bb-427f-cf4f-673a8c1dc7ff",
        "colab": {
          "base_uri": "https://localhost:8080/"
        }
      },
      "execution_count": null,
      "outputs": [
        {
          "output_type": "execute_result",
          "data": {
            "text/plain": [
              "0.975"
            ]
          },
          "metadata": {},
          "execution_count": 53
        }
      ]
    },
    {
      "cell_type": "code",
      "source": [
        "z_alpha_2 = norm.ppf(probabilidade)\n",
        "z_alpha_2.round(2)"
      ],
      "metadata": {
        "id": "N9hZTe9ibOZQ",
        "outputId": "dc223f15-eaf5-4390-fa10-132e40b3a2bf",
        "colab": {
          "base_uri": "https://localhost:8080/"
        }
      },
      "execution_count": null,
      "outputs": [
        {
          "output_type": "execute_result",
          "data": {
            "text/plain": [
              "1.96"
            ]
          },
          "metadata": {},
          "execution_count": 54
        }
      ]
    },
    {
      "cell_type": "code",
      "source": [
        "z = (media_amostra - media_picole)/((desvio_padrao)/(np.sqrt(n)))\n",
        "z"
      ],
      "metadata": {
        "id": "bLvGNdHrbQ6Y",
        "outputId": "be5299e9-36e4-471b-ecea-9c6365f5bdc3",
        "colab": {
          "base_uri": "https://localhost:8080/"
        }
      },
      "execution_count": null,
      "outputs": [
        {
          "output_type": "execute_result",
          "data": {
            "text/plain": [
              "7.415394106106231"
            ]
          },
          "metadata": {},
          "execution_count": 55
        }
      ]
    },
    {
      "cell_type": "code",
      "source": [
        "z <= -z_alpha_2"
      ],
      "metadata": {
        "id": "0dW2LiUwbgbP",
        "outputId": "131ccbd6-e343-4ec0-f462-28a5d1df5033",
        "colab": {
          "base_uri": "https://localhost:8080/"
        }
      },
      "execution_count": null,
      "outputs": [
        {
          "output_type": "execute_result",
          "data": {
            "text/plain": [
              "False"
            ]
          },
          "metadata": {},
          "execution_count": 56
        }
      ]
    },
    {
      "cell_type": "code",
      "source": [
        "z >= z_alpha_2"
      ],
      "metadata": {
        "id": "qWB4Km1uhcmQ",
        "outputId": "43befc9c-fee8-454c-ea9d-0e503b50f3ce",
        "colab": {
          "base_uri": "https://localhost:8080/"
        }
      },
      "execution_count": null,
      "outputs": [
        {
          "output_type": "execute_result",
          "data": {
            "text/plain": [
              "True"
            ]
          },
          "metadata": {},
          "execution_count": 57
        }
      ]
    },
    {
      "cell_type": "markdown",
      "source": [
        "Como a média da amostra é maior que o valor médio do picolé, rejeita-se a hipótese nula de que não há diferença de preços estatisticamente significante. Por tanto, há sim uma diferença de preços estatisticamente significante.\n"
      ],
      "metadata": {
        "id": "5OeCoxuzhkQ_"
      }
    },
    {
      "cell_type": "code",
      "source": [
        "p_valor = 2 *(1 - norm.cdf(z))\n",
        "p_valor"
      ],
      "metadata": {
        "id": "q0r5cHkkhevN",
        "outputId": "94aa685c-28d9-4153-990c-1b2347672098",
        "colab": {
          "base_uri": "https://localhost:8080/"
        }
      },
      "execution_count": null,
      "outputs": [
        {
          "output_type": "execute_result",
          "data": {
            "text/plain": [
              "1.212363542890671e-13"
            ]
          },
          "metadata": {},
          "execution_count": 58
        }
      ]
    },
    {
      "cell_type": "code",
      "source": [
        "p_valor <= significancia_picole"
      ],
      "metadata": {
        "id": "x99-THOui-gT",
        "outputId": "cd10e1ab-7458-401f-9b41-bc2784a4f2da",
        "colab": {
          "base_uri": "https://localhost:8080/"
        }
      },
      "execution_count": null,
      "outputs": [
        {
          "output_type": "execute_result",
          "data": {
            "text/plain": [
              "True"
            ]
          },
          "metadata": {},
          "execution_count": 59
        }
      ]
    },
    {
      "cell_type": "code",
      "source": [
        "from statsmodels.stats.weightstats import ztest"
      ],
      "metadata": {
        "id": "YB22cCJljROy"
      },
      "execution_count": null,
      "outputs": []
    },
    {
      "cell_type": "code",
      "source": [
        "intervalo_confianca1 = media_amostra - z_alpha_2 * ((desvio_padrao)/(np.sqrt(n)))\n",
        "intervalo_confianca2 = media_amostra + z_alpha_2 * ((desvio_padrao)/(np.sqrt(n)))"
      ],
      "metadata": {
        "id": "5KvjVcIXlQbl"
      },
      "execution_count": null,
      "outputs": []
    },
    {
      "cell_type": "code",
      "source": [
        "print(\"Estatística de Teste:\", z)\n",
        "print(\"Intervalo de Confiança (95%):\", \"(\", intervalo_confianca1,'a', intervalo_confianca2, \")\")\n",
        "print(\"Valor-p: %.15f\" % p_valor)"
      ],
      "metadata": {
        "id": "3RSjFuEBlfbb",
        "outputId": "b534c91a-58f3-425d-be1e-804593a20c3d",
        "colab": {
          "base_uri": "https://localhost:8080/"
        }
      },
      "execution_count": null,
      "outputs": [
        {
          "output_type": "stream",
          "name": "stdout",
          "text": [
            "Estatística de Teste: 7.415394106106231\n",
            "Intervalo de Confiança (95%): ( 10.549981721761917 a 12.490018278238082 )\n",
            "Valor-p: 0.000000000000121\n"
          ]
        }
      ]
    },
    {
      "cell_type": "code",
      "source": [],
      "metadata": {
        "id": "JbT_ysP2lixd"
      },
      "execution_count": null,
      "outputs": []
    }
  ]
}